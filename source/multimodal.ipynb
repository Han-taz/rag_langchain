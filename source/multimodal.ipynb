{
 "cells": [
  {
   "cell_type": "code",
   "id": "initial_id",
   "metadata": {
    "collapsed": true,
    "ExecuteTime": {
     "end_time": "2024-07-09T13:50:42.472720Z",
     "start_time": "2024-07-09T13:50:42.459808Z"
    }
   },
   "source": [
    "from dotenv import load_dotenv\n",
    "import os\n",
    "\n",
    "load_dotenv(\"/home/kevin/projects/rag_langchain/.env\")\n"
   ],
   "outputs": [
    {
     "data": {
      "text/plain": [
       "True"
      ]
     },
     "execution_count": 1,
     "metadata": {},
     "output_type": "execute_result"
    }
   ],
   "execution_count": 1
  },
  {
   "metadata": {
    "ExecuteTime": {
     "end_time": "2024-07-09T13:51:18.734153Z",
     "start_time": "2024-07-09T13:51:18.727104Z"
    }
   },
   "cell_type": "code",
   "source": [
    "def langsmith(project_name=None, set_enable=True):\n",
    "\n",
    "    if set_enable:\n",
    "        result = os.environ.get(\"LANGSMITH_API_KEY\")\n",
    "        if result is None or result.strip() == \"\":\n",
    "            print(\n",
    "                \"LangChain API Key가 설정되지 않았습니다. 참고: https://wikidocs.net/250954\"\n",
    "            )\n",
    "            return\n",
    "        os.environ[\"LANGCHAIN_ENDPOINT\"] = (\n",
    "            \"https://api.smith.langchain.com\"  # LangSmith API 엔드포인트\n",
    "        )\n",
    "        os.environ[\"LANGCHAIN_TRACING_V2\"] = \"true\"  # true: 활성화\n",
    "        os.environ[\"LANGCHAIN_PROJECT\"] = project_name  # 프로젝트명\n",
    "        print(f\"LangSmith 추적을 시작합니다.\\n[프로젝트명]\\n{project_name}\")\n",
    "    else:\n",
    "        os.environ[\"LANGCHAIN_TRACING_V2\"] = \"false\"  # false: 비활성화\n",
    "        print(\"LangSmith 추적을 하지 않습니다.\")\n",
    "\n",
    "\n",
    "def env_variable(key, value):\n",
    "    os.environ[key] = value\n",
    "\n",
    "langsmith(project_name=\"llm_test\")"
   ],
   "id": "6017c97c03ab1cfb",
   "outputs": [
    {
     "name": "stdout",
     "output_type": "stream",
     "text": [
      "LangSmith 추적을 시작합니다.\n",
      "[프로젝트명]\n",
      "llm_test\n"
     ]
    }
   ],
   "execution_count": 2
  },
  {
   "metadata": {
    "ExecuteTime": {
     "end_time": "2024-07-09T13:51:54.619368Z",
     "start_time": "2024-07-09T13:51:54.553941Z"
    }
   },
   "cell_type": "code",
   "source": "from langchain_teddynote.models import MultiModal",
   "id": "3e53fd6f715fb032",
   "outputs": [],
   "execution_count": 3
  },
  {
   "metadata": {},
   "cell_type": "code",
   "outputs": [],
   "execution_count": null,
   "source": [
    "import base64\n",
    "import requests\n",
    "from IPython.display import Image, display\n",
    "import os\n",
    "\n",
    "\n",
    "class MultiModal:\n",
    "    def __init__(self, model, system_prompt=None, user_prompt=None):\n",
    "        self.model = model\n",
    "        self.system_prompt = system_prompt\n",
    "        self.user_prompt = user_prompt\n",
    "        self.init_prompt()\n",
    "\n",
    "    def init_prompt(self):\n",
    "        if self.system_prompt is None:\n",
    "            self.system_prompt = \"You are a helpful assistant who helps users to write a report related to images in Korean.\"\n",
    "        if self.user_prompt is None:\n",
    "            self.user_prompt = \"Explain the images as an alternative text in Korean.\"\n",
    "\n",
    "    # 이미지를 base64로 인코딩하는 함수 (URL)\n",
    "    def encode_image_from_url(self, url):\n",
    "        response = requests.get(url)\n",
    "        if response.status_code == 200:\n",
    "            image_content = response.content\n",
    "            if url.lower().endswith((\".jpg\", \".jpeg\")):\n",
    "                mime_type = \"image/jpeg\"\n",
    "            elif url.lower().endswith(\".png\"):\n",
    "                mime_type = \"image/png\"\n",
    "            else:\n",
    "                mime_type = \"image/unknown\"\n",
    "            return f\"data:{mime_type};base64,{base64.b64encode(image_content).decode('utf-8')}\"\n",
    "        else:\n",
    "            raise Exception(\"Failed to download image\")\n",
    "\n",
    "    # 이미지를 base64로 인코딩하는 함수 (파일)\n",
    "    def encode_image_from_file(self, file_path):\n",
    "        with open(file_path, \"rb\") as image_file:\n",
    "            image_content = image_file.read()\n",
    "            file_ext = os.path.splitext(file_path)[1].lower()\n",
    "            if file_ext in [\".jpg\", \".jpeg\"]:\n",
    "                mime_type = \"image/jpeg\"\n",
    "            elif file_ext == \".png\":\n",
    "                mime_type = \"image/png\"\n",
    "            else:\n",
    "                mime_type = \"image/unknown\"\n",
    "            return f\"data:{mime_type};base64,{base64.b64encode(image_content).decode('utf-8')}\"\n",
    "\n",
    "    # 이미지 경로에 따라 적절한 함수를 호출하는 함수\n",
    "    def encode_image(self, image_path):\n",
    "        if image_path.startswith(\"http://\") or image_path.startswith(\"https://\"):\n",
    "            return self.encode_image_from_url(image_path)\n",
    "        else:\n",
    "            return self.encode_image_from_file(image_path)\n",
    "\n",
    "    def display_image(self, encoded_image):\n",
    "        display(Image(url=encoded_image))\n",
    "\n",
    "    def create_messages(\n",
    "        self, image_url, system_prompt=None, user_prompt=None, display_image=True\n",
    "    ):\n",
    "        encoded_image = self.encode_image(image_url)\n",
    "        if display_image:\n",
    "            self.display_image(encoded_image)\n",
    "\n",
    "        system_prompt = (\n",
    "            system_prompt if system_prompt is not None else self.system_prompt\n",
    "        )\n",
    "\n",
    "        user_prompt = user_prompt if user_prompt is not None else self.user_prompt\n",
    "\n",
    "        # 인코딩된 이미지를 사용하여 다른 처리를 수행할 수 있습니다.\n",
    "        messages = [\n",
    "            {\n",
    "                \"role\": \"system\",\n",
    "                \"content\": system_prompt,\n",
    "            },\n",
    "            {\n",
    "                \"role\": \"user\",\n",
    "                \"content\": [\n",
    "                    {\n",
    "                        \"type\": \"text\",\n",
    "                        \"text\": user_prompt,\n",
    "                    },\n",
    "                    {\n",
    "                        \"type\": \"image_url\",\n",
    "                        \"image_url\": {\"url\": f\"{encoded_image}\"},\n",
    "                    },\n",
    "                ],\n",
    "            },\n",
    "        ]\n",
    "        return messages\n",
    "\n",
    "    def invoke(\n",
    "        self, image_url, system_prompt=None, user_prompt=None, display_image=True\n",
    "    ):\n",
    "        messages = self.create_messages(\n",
    "            image_url, system_prompt, user_prompt, display_image\n",
    "        )\n",
    "        response = self.model.invoke(messages)\n",
    "        return response.content\n",
    "\n",
    "    def stream(\n",
    "        self, image_url, system_prompt=None, user_prompt=None, display_image=True\n",
    "    ):\n",
    "        messages = self.create_messages(\n",
    "            image_url, system_prompt, user_prompt, display_image\n",
    "        )\n",
    "        response = self.model.stream(messages)\n",
    "        return response\n"
   ],
   "id": "27cd2dc40af0a6b5"
  }
 ],
 "metadata": {
  "kernelspec": {
   "display_name": "Python 3",
   "language": "python",
   "name": "python3"
  },
  "language_info": {
   "codemirror_mode": {
    "name": "ipython",
    "version": 2
   },
   "file_extension": ".py",
   "mimetype": "text/x-python",
   "name": "python",
   "nbconvert_exporter": "python",
   "pygments_lexer": "ipython2",
   "version": "2.7.6"
  }
 },
 "nbformat": 4,
 "nbformat_minor": 5
}
