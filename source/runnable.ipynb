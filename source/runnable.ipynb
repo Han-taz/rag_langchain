{
 "cells": [
  {
   "metadata": {
    "ExecuteTime": {
     "end_time": "2024-07-10T14:17:54.568374Z",
     "start_time": "2024-07-10T14:17:54.555218Z"
    }
   },
   "cell_type": "code",
   "source": [
    "from dotenv import load_dotenv\n",
    "import os\n",
    "from langchain_openai import ChatOpenAI\n",
    "from langchain_core.output_parsers import StrOutputParser\n",
    "from langchain_core.prompts import PromptTemplate\n",
    "load_dotenv(\"/home/kevin/projects/rag_langchain/.env\")\n",
    "def langsmith(project_name=None, set_enable=True):\n",
    "\n",
    "    if set_enable:\n",
    "        result = os.environ.get(\"LANGSMITH_API_KEY\")\n",
    "        if result is None or result.strip() == \"\":\n",
    "            print(\n",
    "                \"LangChain API Key가 설정되지 않았습니다.\"\n",
    "            )\n",
    "            return\n",
    "        os.environ[\"LANGCHAIN_ENDPOINT\"] = (\n",
    "            \"https://api.smith.langchain.com\"  # LangSmith API 엔드포인트\n",
    "        )\n",
    "        os.environ[\"LANGCHAIN_TRACING_V2\"] = \"true\"  # true: 활성화\n",
    "        os.environ[\"LANGCHAIN_PROJECT\"] = project_name  # 프로젝트명\n",
    "        print(f\"LangSmith 추적을 시작합니다.\\n[프로젝트명]\\n{project_name}\")\n",
    "    else:\n",
    "        os.environ[\"LANGCHAIN_TRACING_V2\"] = \"false\"  # false: 비활성화\n",
    "        print(\"LangSmith 추적을 하지 않습니다.\")\n",
    "\n",
    "langsmith(project_name=\"lcel_dev\")"
   ],
   "id": "26081a1788d34a50",
   "outputs": [
    {
     "name": "stdout",
     "output_type": "stream",
     "text": [
      "LangSmith 추적을 시작합니다.\n",
      "[프로젝트명]\n",
      "lcel_dev\n"
     ]
    }
   ],
   "execution_count": 2
  },
  {
   "metadata": {
    "ExecuteTime": {
     "end_time": "2024-07-10T14:18:15.396016Z",
     "start_time": "2024-07-10T14:18:15.332683Z"
    }
   },
   "cell_type": "code",
   "source": "llm= ChatOpenAI(model_name='gpt-4o',temperature=0.1)",
   "id": "3e84ee6839e648f4",
   "outputs": [],
   "execution_count": 3
  },
  {
   "metadata": {},
   "cell_type": "markdown",
   "source": "# RunnableParallel",
   "id": "bc5233ae0703547b"
  },
  {
   "metadata": {
    "ExecuteTime": {
     "end_time": "2024-07-10T14:18:39.637879Z",
     "start_time": "2024-07-10T14:18:39.633721Z"
    }
   },
   "cell_type": "code",
   "source": "from langchain_core.runnables import RunnableParallel",
   "id": "dd084bd2e6366579",
   "outputs": [],
   "execution_count": 4
  },
  {
   "metadata": {
    "ExecuteTime": {
     "end_time": "2024-07-10T14:20:24.133056Z",
     "start_time": "2024-07-10T14:20:24.128218Z"
    }
   },
   "cell_type": "code",
   "source": [
    "chain1 =(\n",
    "    PromptTemplate.from_template(\"{country}의 수도는 어디야?\")\n",
    "    |llm\n",
    "    |StrOutputParser()\n",
    ")\n",
    "chain2 = (\n",
    "    PromptTemplate.from_template(\"{country}의 면적은 얼마야?\")\n",
    "    |llm\n",
    "    |StrOutputParser()\n",
    ")\n",
    "\n",
    "combined = RunnableParallel(captial=chain1, area=chain2)"
   ],
   "id": "b4af0f2cf39a5633",
   "outputs": [],
   "execution_count": 5
  },
  {
   "metadata": {
    "ExecuteTime": {
     "end_time": "2024-07-10T14:20:53.642132Z",
     "start_time": "2024-07-10T14:20:52.116357Z"
    }
   },
   "cell_type": "code",
   "source": "chain1.invoke({\"country\":\"스페인\"})",
   "id": "c8873375c09c578f",
   "outputs": [
    {
     "data": {
      "text/plain": [
       "'스페인의 수도는 마드리드입니다. 마드리드는 스페인의 중심부에 위치해 있으며, 정치, 경제, 문화의 중심지로서 중요한 역할을 하고 있습니다.'"
      ]
     },
     "execution_count": 6,
     "metadata": {},
     "output_type": "execute_result"
    }
   ],
   "execution_count": 6
  },
  {
   "metadata": {
    "ExecuteTime": {
     "end_time": "2024-07-10T14:21:15.882844Z",
     "start_time": "2024-07-10T14:21:14.607669Z"
    }
   },
   "cell_type": "code",
   "source": "chain2.invoke({\"country\":\"스페인\"})",
   "id": "6153738cb265bccf",
   "outputs": [
    {
     "data": {
      "text/plain": [
       "'스페인의 면적은 약 505,990 평방 킬로미터(약 195,360 평방 마일)입니다. 이는 스페인을 유럽에서 네 번째로 큰 국가로 만듭니다.'"
      ]
     },
     "execution_count": 7,
     "metadata": {},
     "output_type": "execute_result"
    }
   ],
   "execution_count": 7
  },
  {
   "metadata": {
    "ExecuteTime": {
     "end_time": "2024-07-10T14:21:36.875790Z",
     "start_time": "2024-07-10T14:21:35.533517Z"
    }
   },
   "cell_type": "code",
   "source": "combined.invoke({\"country\":\"스페인\"})",
   "id": "318d45f5673363db",
   "outputs": [
    {
     "data": {
      "text/plain": [
       "{'captial': '스페인의 수도는 마드리드입니다. 마드리드는 스페인의 정치, 경제, 문화의 중심지로서 많은 역사적 건축물과 현대적인 시설을 갖추고 있습니다.',\n",
       " 'area': '스페인의 면적은 약 505,990 평방 킬로미터(약 195,360 평방 마일)입니다. 이는 스페인을 유럽에서 네 번째로 큰 국가로 만듭니다.'}"
      ]
     },
     "execution_count": 8,
     "metadata": {},
     "output_type": "execute_result"
    }
   ],
   "execution_count": 8
  },
  {
   "metadata": {
    "ExecuteTime": {
     "end_time": "2024-07-10T14:23:33.118804Z",
     "start_time": "2024-07-10T14:23:31.655903Z"
    }
   },
   "cell_type": "code",
   "source": "chain1.batch([{\"country\":\"스페인\"},{\"country\":\"포르투갈\"}])",
   "id": "31a310b26a4ad87c",
   "outputs": [
    {
     "data": {
      "text/plain": [
       "['스페인의 수도는 마드리드입니다. 마드리드는 스페인의 정치, 경제, 문화의 중심지로서 중요한 역할을 하고 있습니다.',\n",
       " '포르투갈의 수도는 리스본(Lisbon)입니다. 리스본은 포르투갈의 가장 큰 도시이자 주요 경제, 문화, 정치 중심지입니다.']"
      ]
     },
     "execution_count": 9,
     "metadata": {},
     "output_type": "execute_result"
    }
   ],
   "execution_count": 9
  },
  {
   "metadata": {
    "ExecuteTime": {
     "end_time": "2024-07-10T14:23:44.068812Z",
     "start_time": "2024-07-10T14:23:41.591185Z"
    }
   },
   "cell_type": "code",
   "source": "chain2.batch([{\"country\":\"스페인\"},{\"country\":\"포르투갈\"}])",
   "id": "24f2cb674f881089",
   "outputs": [
    {
     "data": {
      "text/plain": [
       "['스페인의 면적은 약 505,990 평방 킬로미터(약 195,360 평방 마일)입니다. 이는 스페인을 유럽에서 네 번째로 큰 국가로 만듭니다.',\n",
       " '포르투갈의 면적은 약 92,090 평방 킬로미터(약 35,556 평방 마일)입니다. 이는 포르투갈 본토와 아조레스 제도 및 마데이라 제도를 포함한 전체 면적을 의미합니다.']"
      ]
     },
     "execution_count": 10,
     "metadata": {},
     "output_type": "execute_result"
    }
   ],
   "execution_count": 10
  },
  {
   "metadata": {
    "ExecuteTime": {
     "end_time": "2024-07-10T14:24:08.068618Z",
     "start_time": "2024-07-10T14:24:06.375139Z"
    }
   },
   "cell_type": "code",
   "source": "combined.batch([{\"country\":\"스페인\"},{\"country\":\"포르투갈\"}])\n",
   "id": "e4456108fd34b704",
   "outputs": [
    {
     "data": {
      "text/plain": [
       "[{'captial': '스페인의 수도는 마드리드입니다. 마드리드는 스페인의 중심부에 위치해 있으며, 정치, 경제, 문화의 중심지로서 중요한 역할을 하고 있습니다.',\n",
       "  'area': '스페인의 면적은 약 505,990 평방 킬로미터(약 195,360 평방 마일)입니다. 이는 스페인을 유럽에서 네 번째로 큰 국가로 만듭니다.'},\n",
       " {'captial': '포르투갈의 수도는 리스본(Lisboa)입니다. 리스본은 포르투갈의 가장 큰 도시이자 주요 경제, 문화, 정치 중심지입니다.',\n",
       "  'area': '포르투갈의 면적은 약 92,090 평방 킬로미터(약 35,556 평방 마일)입니다. 이 면적에는 포르투갈 본토뿐만 아니라 아조레스 제도와 마데이라 제도도 포함됩니다.'}]"
      ]
     },
     "execution_count": 11,
     "metadata": {},
     "output_type": "execute_result"
    }
   ],
   "execution_count": 11
  },
  {
   "metadata": {},
   "cell_type": "markdown",
   "source": "# RunnablePassthrough",
   "id": "3d87a1ae7295a79a"
  },
  {
   "metadata": {
    "ExecuteTime": {
     "end_time": "2024-07-10T14:26:09.512665Z",
     "start_time": "2024-07-10T14:26:09.507495Z"
    }
   },
   "cell_type": "code",
   "source": "from langchain_core.runnables import RunnablePassthrough",
   "id": "b8d6a41af31d69d9",
   "outputs": [],
   "execution_count": 12
  },
  {
   "metadata": {
    "ExecuteTime": {
     "end_time": "2024-07-10T14:26:52.608957Z",
     "start_time": "2024-07-10T14:26:52.605076Z"
    }
   },
   "cell_type": "code",
   "source": "prompt = PromptTemplate.from_template(\"{num}의 3제곱은?\")",
   "id": "422f76f6105de1b",
   "outputs": [],
   "execution_count": 14
  },
  {
   "metadata": {
    "ExecuteTime": {
     "end_time": "2024-07-10T14:27:23.051775Z",
     "start_time": "2024-07-10T14:27:23.047575Z"
    }
   },
   "cell_type": "code",
   "source": "chain = prompt|llm|StrOutputParser()",
   "id": "2f367573932c7452",
   "outputs": [],
   "execution_count": 15
  },
  {
   "metadata": {
    "ExecuteTime": {
     "end_time": "2024-07-10T14:27:36.512058Z",
     "start_time": "2024-07-10T14:27:34.758899Z"
    }
   },
   "cell_type": "code",
   "source": "chain.invoke({\"num\":3})",
   "id": "583fe7ae09f68b26",
   "outputs": [
    {
     "data": {
      "text/plain": [
       "'3의 3제곱은 \\\\(3^3\\\\)으로 계산하면 됩니다. \\n\\n\\\\[ 3^3 = 3 \\\\times 3 \\\\times 3 = 27 \\\\]\\n\\n따라서, 3의 3제곱은 27입니다.'"
      ]
     },
     "execution_count": 16,
     "metadata": {},
     "output_type": "execute_result"
    }
   ],
   "execution_count": 16
  },
  {
   "metadata": {
    "ExecuteTime": {
     "end_time": "2024-07-10T14:27:54.122850Z",
     "start_time": "2024-07-10T14:27:53.200997Z"
    }
   },
   "cell_type": "code",
   "source": "chain.invoke(3)",
   "id": "a5b91b8196c475a5",
   "outputs": [
    {
     "data": {
      "text/plain": [
       "'3의 3제곱은 \\\\(3 \\\\times 3 \\\\times 3 = 27\\\\)입니다.'"
      ]
     },
     "execution_count": 17,
     "metadata": {},
     "output_type": "execute_result"
    }
   ],
   "execution_count": 17
  },
  {
   "metadata": {
    "ExecuteTime": {
     "end_time": "2024-07-10T14:28:40.258401Z",
     "start_time": "2024-07-10T14:28:40.245961Z"
    }
   },
   "cell_type": "code",
   "source": "RunnablePassthrough().invoke({\"num\":10})",
   "id": "8c55312ea90129b9",
   "outputs": [
    {
     "data": {
      "text/plain": [
       "{'num': 10}"
      ]
     },
     "execution_count": 18,
     "metadata": {},
     "output_type": "execute_result"
    }
   ],
   "execution_count": 18
  },
  {
   "metadata": {
    "ExecuteTime": {
     "end_time": "2024-07-10T14:29:53.886842Z",
     "start_time": "2024-07-10T14:29:53.882899Z"
    }
   },
   "cell_type": "code",
   "source": "runnable_chain = ({\"num\":RunnablePassthrough()})|prompt|llm|StrOutputParser()",
   "id": "2c36e8a95f51d998",
   "outputs": [],
   "execution_count": 20
  },
  {
   "metadata": {
    "ExecuteTime": {
     "end_time": "2024-07-10T14:30:07.032951Z",
     "start_time": "2024-07-10T14:30:04.577693Z"
    }
   },
   "cell_type": "code",
   "source": "runnable_chain.invoke(10)",
   "id": "cfa51481ecf6cf19",
   "outputs": [
    {
     "data": {
      "text/plain": [
       "'10의 3제곱은 \\\\(10^3\\\\)으로, 이는 10을 세 번 곱한 값을 의미합니다. 계산하면 다음과 같습니다:\\n\\n\\\\[ 10 \\\\times 10 \\\\times 10 = 1000 \\\\]\\n\\n따라서 10의 3제곱은 1000입니다.'"
      ]
     },
     "execution_count": 21,
     "metadata": {},
     "output_type": "execute_result"
    }
   ],
   "execution_count": 21
  },
  {
   "metadata": {},
   "cell_type": "markdown",
   "source": [
    "# .assign\n",
    "- 입력 값으로 들어온 값의 key/value 쌍과 새롭게 할당된 key/value 쌍을 합친다."
   ],
   "id": "9df19205b28e4f40"
  },
  {
   "metadata": {
    "ExecuteTime": {
     "end_time": "2024-07-10T14:33:26.800768Z",
     "start_time": "2024-07-10T14:33:26.775840Z"
    }
   },
   "cell_type": "code",
   "source": "(RunnablePassthrough.assign(new_num= lambda x: x[\"num\"]-2)).invoke({\"num\":2})",
   "id": "8489eecd6f93318",
   "outputs": [
    {
     "data": {
      "text/plain": [
       "{'num': 2, 'new_num': 0}"
      ]
     },
     "execution_count": 22,
     "metadata": {},
     "output_type": "execute_result"
    }
   ],
   "execution_count": 22
  },
  {
   "metadata": {},
   "cell_type": "markdown",
   "source": "# 복합",
   "id": "b067e27a1982e798"
  },
  {
   "metadata": {
    "ExecuteTime": {
     "end_time": "2024-07-10T14:38:21.817857Z",
     "start_time": "2024-07-10T14:38:21.790832Z"
    }
   },
   "cell_type": "code",
   "source": [
    "runnable = RunnableParallel(\n",
    "    passed=RunnablePassthrough(),\n",
    "    extra = RunnablePassthrough.assign(mul=lambda x: x[\"num\"]*10),\n",
    "    modified = lambda x: x[\"num\"]-3\n",
    "    \n",
    ")\n",
    "runnable.invoke({\"num\":2})"
   ],
   "id": "6cd158c62139bc79",
   "outputs": [
    {
     "data": {
      "text/plain": [
       "{'passed': {'num': 2}, 'extra': {'num': 2, 'mul': 20}, 'modified': -1}"
      ]
     },
     "execution_count": 24,
     "metadata": {},
     "output_type": "execute_result"
    }
   ],
   "execution_count": 24
  },
  {
   "metadata": {
    "ExecuteTime": {
     "end_time": "2024-07-10T14:41:36.628179Z",
     "start_time": "2024-07-10T14:41:36.623577Z"
    }
   },
   "cell_type": "code",
   "source": "chain = ({\"num\":RunnablePassthrough()}|prompt|llm|StrOutputParser())",
   "id": "2ae3c07102a595d9",
   "outputs": [],
   "execution_count": 25
  },
  {
   "metadata": {
    "ExecuteTime": {
     "end_time": "2024-07-10T14:41:46.396513Z",
     "start_time": "2024-07-10T14:41:43.424181Z"
    }
   },
   "cell_type": "code",
   "source": "chain.invoke(1231)",
   "id": "5f5974b3a7d66ac9",
   "outputs": [
    {
     "data": {
      "text/plain": [
       "'1231의 3제곱을 계산해 보겠습니다.\\n\\n\\\\[ 1231^3 = 1231 \\\\times 1231 \\\\times 1231 \\\\]\\n\\n먼저, 1231을 제곱합니다:\\n\\n\\\\[ 1231 \\\\times 1231 = 1,515,361 \\\\]\\n\\n그 다음, 이 결과에 다시 1231을 곱합니다:\\n\\n\\\\[ 1,515,361 \\\\times 1231 = 1,865,058,791 \\\\]\\n\\n따라서, 1231의 3제곱은 1,865,058,791입니다.'"
      ]
     },
     "execution_count": 26,
     "metadata": {},
     "output_type": "execute_result"
    }
   ],
   "execution_count": 26
  },
  {
   "metadata": {},
   "cell_type": "markdown",
   "source": "# RunnableLambda",
   "id": "e41cccf3ea582516"
  },
  {
   "metadata": {
    "ExecuteTime": {
     "end_time": "2024-07-10T14:45:22.895700Z",
     "start_time": "2024-07-10T14:45:22.892591Z"
    }
   },
   "cell_type": "code",
   "source": [
    "from langchain_core.runnables import RunnableLambda\n",
    "from datetime import datetime"
   ],
   "id": "45085119a36bbb0f",
   "outputs": [],
   "execution_count": 31
  },
  {
   "metadata": {
    "ExecuteTime": {
     "end_time": "2024-07-10T14:50:34.922709Z",
     "start_time": "2024-07-10T14:50:34.918301Z"
    }
   },
   "cell_type": "code",
   "source": [
    "def get_today(faker):\n",
    "    print(\"input: \",faker)\n",
    "    return datetime.today().strftime(\"%b-%d\")"
   ],
   "id": "eed8351527231fea",
   "outputs": [],
   "execution_count": 44
  },
  {
   "metadata": {
    "ExecuteTime": {
     "end_time": "2024-07-10T14:50:36.556572Z",
     "start_time": "2024-07-10T14:50:36.549860Z"
    }
   },
   "cell_type": "code",
   "source": "get_today(123123)",
   "id": "57c88ebd7f7a048c",
   "outputs": [
    {
     "name": "stdout",
     "output_type": "stream",
     "text": [
      "input:  123123\n"
     ]
    },
    {
     "data": {
      "text/plain": [
       "'Jul-10'"
      ]
     },
     "execution_count": 45,
     "metadata": {},
     "output_type": "execute_result"
    }
   ],
   "execution_count": 45
  },
  {
   "metadata": {
    "ExecuteTime": {
     "end_time": "2024-07-10T14:50:36.769800Z",
     "start_time": "2024-07-10T14:50:36.765003Z"
    }
   },
   "cell_type": "code",
   "source": "prompt =PromptTemplate.from_template(\"{today}가 생일인 배우 {n}명을 나열하세요. 생년월일을 표기해 주세요\")\n",
   "id": "81b9b85d2a35cd32",
   "outputs": [],
   "execution_count": 46
  },
  {
   "metadata": {
    "ExecuteTime": {
     "end_time": "2024-07-10T14:50:37.194983Z",
     "start_time": "2024-07-10T14:50:37.189625Z"
    }
   },
   "cell_type": "code",
   "source": [
    "chain = (\n",
    "    {\"today\":RunnableLambda(get_today),\"n\":RunnablePassthrough()}\n",
    "    |prompt\n",
    "    |llm\n",
    "    |StrOutputParser()\n",
    ")"
   ],
   "id": "a3363763f86c00b2",
   "outputs": [],
   "execution_count": 47
  },
  {
   "metadata": {
    "ExecuteTime": {
     "end_time": "2024-07-10T14:50:40.674225Z",
     "start_time": "2024-07-10T14:50:38.166253Z"
    }
   },
   "cell_type": "code",
   "source": "chain.invoke(3)# 3으로 들어감",
   "id": "60110e24f34a733f",
   "outputs": [
    {
     "name": "stdout",
     "output_type": "stream",
     "text": [
      "input:  3\n"
     ]
    },
    {
     "data": {
      "text/plain": [
       "'다음은 7월 10일이 생일인 배우 세 명과 그들의 생년월일입니다:\\n\\n1. 소피아 베르가라 (Sofía Vergara) - 1972년 7월 10일\\n2. 제시카 심슨 (Jessica Simpson) - 1980년 7월 10일\\n3. 에이드리언 그레니어 (Adrian Grenier) - 1976년 7월 10일\\n\\n이 배우들은 각각 다양한 영화와 TV 프로그램에서 활약하며 많은 인기를 얻고 있습니다.'"
      ]
     },
     "execution_count": 48,
     "metadata": {},
     "output_type": "execute_result"
    }
   ],
   "execution_count": 48
  },
  {
   "metadata": {
    "ExecuteTime": {
     "end_time": "2024-07-10T14:51:42.433481Z",
     "start_time": "2024-07-10T14:51:40.307277Z"
    }
   },
   "cell_type": "code",
   "source": "chain.invoke({\"n\":3})# RunnablePassthough로 인해 프롬프트에 \"n\":3이 그대로 들어감",
   "id": "6fe59838d751ef27",
   "outputs": [
    {
     "name": "stdout",
     "output_type": "stream",
     "text": [
      "input:  {'n': 3}\n"
     ]
    },
    {
     "data": {
      "text/plain": [
       "'다음은 7월 10일이 생일인 배우 세 명과 그들의 생년월일입니다:\\n\\n1. 소피아 베르가라 (Sofía Vergara) - 1972년 7월 10일\\n2. 제시카 심슨 (Jessica Simpson) - 1980년 7월 10일\\n3. 에이드리언 그레니어 (Adrian Grenier) - 1976년 7월 10일'"
      ]
     },
     "execution_count": 49,
     "metadata": {},
     "output_type": "execute_result"
    }
   ],
   "execution_count": 49
  },
  {
   "metadata": {
    "ExecuteTime": {
     "end_time": "2024-07-10T14:53:59.364401Z",
     "start_time": "2024-07-10T14:53:59.360640Z"
    }
   },
   "cell_type": "code",
   "source": "from operator import itemgetter",
   "id": "5188a5094df5ff68",
   "outputs": [],
   "execution_count": 50
  },
  {
   "metadata": {
    "ExecuteTime": {
     "end_time": "2024-07-10T14:54:17.160493Z",
     "start_time": "2024-07-10T14:54:17.156211Z"
    }
   },
   "cell_type": "code",
   "source": [
    "chain = (\n",
    "    {\"today\":RunnableLambda(get_today),\"n\":itemgetter(\"n\")}\n",
    "    |prompt\n",
    "    |llm\n",
    "    |StrOutputParser()\n",
    ")"
   ],
   "id": "8bea5e7728db8192",
   "outputs": [],
   "execution_count": 51
  },
  {
   "metadata": {
    "ExecuteTime": {
     "end_time": "2024-07-10T14:54:26.426876Z",
     "start_time": "2024-07-10T14:54:24.262707Z"
    }
   },
   "cell_type": "code",
   "source": "chain.invoke({\"n\":3})",
   "id": "9a6db7e8ed6d192b",
   "outputs": [
    {
     "name": "stdout",
     "output_type": "stream",
     "text": [
      "input:  {'n': 3}\n"
     ]
    },
    {
     "data": {
      "text/plain": [
       "'다음은 7월 10일이 생일인 배우 세 명과 그들의 생년월일입니다:\\n\\n1. 소피아 베르가라 (Sofía Vergara) - 1972년 7월 10일\\n2. 제시카 심슨 (Jessica Simpson) - 1980년 7월 10일\\n3. 에이드리언 그레니어 (Adrian Grenier) - 1976년 7월 10일'"
      ]
     },
     "execution_count": 52,
     "metadata": {},
     "output_type": "execute_result"
    }
   ],
   "execution_count": 52
  },
  {
   "metadata": {
    "ExecuteTime": {
     "end_time": "2024-07-10T14:58:33.953270Z",
     "start_time": "2024-07-10T14:58:33.948942Z"
    }
   },
   "cell_type": "code",
   "source": [
    "def length_function(text):\n",
    "    return len(text)\n",
    "def _mutiple_length_function(text1, text2):\n",
    "    return len(text1)+len(text2)\n",
    "def mutiple_length_function(_dict):\n",
    "    return _mutiple_length_function(_dict['text1'],_dict['text2'])"
   ],
   "id": "c52e8507ab119445",
   "outputs": [],
   "execution_count": 53
  },
  {
   "metadata": {
    "ExecuteTime": {
     "end_time": "2024-07-10T15:01:42.607192Z",
     "start_time": "2024-07-10T15:01:42.602168Z"
    }
   },
   "cell_type": "code",
   "source": [
    "prompt = PromptTemplate.from_template(\"{a}+{b}는?\")\n",
    "chain = (\n",
    "    {\n",
    "        \"a\":itemgetter(\"word1\")|RunnableLambda(length_function),\n",
    "        \"b\":{\"text1\": itemgetter(\"word1\"),\"text2\":itemgetter(\"word2\")}\n",
    "        |RunnableLambda(mutiple_length_function),\n",
    "    }\n",
    "    |prompt\n",
    "    |llm\n",
    "    |StrOutputParser()\n",
    ")"
   ],
   "id": "262d88eaa14fa413",
   "outputs": [],
   "execution_count": 54
  },
  {
   "metadata": {
    "ExecuteTime": {
     "end_time": "2024-07-10T15:02:09.445373Z",
     "start_time": "2024-07-10T15:02:08.622072Z"
    }
   },
   "cell_type": "code",
   "source": "chain.invoke({\"word1\":\"what the\",\"word2\":\"hack\"})",
   "id": "d802cd04005ef72c",
   "outputs": [
    {
     "data": {
      "text/plain": [
       "'8 + 12는 20입니다.'"
      ]
     },
     "execution_count": 55,
     "metadata": {},
     "output_type": "execute_result"
    }
   ],
   "execution_count": 55
  },
  {
   "metadata": {},
   "cell_type": "markdown",
   "source": "# 혼자 여러 체인 만들어 보기",
   "id": "c2128b6cc8afb869"
  },
  {
   "metadata": {},
   "cell_type": "code",
   "outputs": [],
   "execution_count": null,
   "source": "# 9시 반 퇴근으로 내일할 예정",
   "id": "eb9c6858213a8329"
  }
 ],
 "metadata": {
  "kernelspec": {
   "display_name": "Python 3",
   "language": "python",
   "name": "python3"
  },
  "language_info": {
   "codemirror_mode": {
    "name": "ipython",
    "version": 2
   },
   "file_extension": ".py",
   "mimetype": "text/x-python",
   "name": "python",
   "nbconvert_exporter": "python",
   "pygments_lexer": "ipython2",
   "version": "2.7.6"
  }
 },
 "nbformat": 4,
 "nbformat_minor": 5
}
