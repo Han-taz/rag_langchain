{
 "cells": [
  {
   "cell_type": "code",
   "id": "initial_id",
   "metadata": {
    "collapsed": true,
    "ExecuteTime": {
     "end_time": "2024-07-09T14:00:08.713668Z",
     "start_time": "2024-07-09T14:00:08.706888Z"
    }
   },
   "source": [
    "from dotenv import load_dotenv\n",
    "import os\n",
    "from langchain_openai import ChatOpenAI\n",
    "from langchain_core.output_parsers import StrOutputParser\n",
    "load_dotenv(\"/home/kevin/projects/rag_langchain/.env\")\n",
    "def langsmith(project_name=None, set_enable=True):\n",
    "\n",
    "    if set_enable:\n",
    "        result = os.environ.get(\"LANGSMITH_API_KEY\")\n",
    "        if result is None or result.strip() == \"\":\n",
    "            print(\n",
    "                \"LangChain API Key가 설정되지 않았습니다.\"\n",
    "            )\n",
    "            return\n",
    "        os.environ[\"LANGCHAIN_ENDPOINT\"] = (\n",
    "            \"https://api.smith.langchain.com\"  # LangSmith API 엔드포인트\n",
    "        )\n",
    "        os.environ[\"LANGCHAIN_TRACING_V2\"] = \"true\"  # true: 활성화\n",
    "        os.environ[\"LANGCHAIN_PROJECT\"] = project_name  # 프로젝트명\n",
    "        print(f\"LangSmith 추적을 시작합니다.\\n[프로젝트명]\\n{project_name}\")\n",
    "    else:\n",
    "        os.environ[\"LANGCHAIN_TRACING_V2\"] = \"false\"  # false: 비활성화\n",
    "        print(\"LangSmith 추적을 하지 않습니다.\")\n",
    "\n",
    "langsmith(project_name=\"lcel_dev\")"
   ],
   "outputs": [
    {
     "name": "stdout",
     "output_type": "stream",
     "text": [
      "LangSmith 추적을 시작합니다.\n",
      "[프로젝트명]\n",
      "lcel_dev\n"
     ]
    }
   ],
   "execution_count": 9
  },
  {
   "metadata": {
    "ExecuteTime": {
     "end_time": "2024-07-09T13:56:43.938088Z",
     "start_time": "2024-07-09T13:56:43.353872Z"
    }
   },
   "cell_type": "code",
   "source": "from langchain_core.prompts import PromptTemplate",
   "id": "72536fc97f697a76",
   "outputs": [],
   "execution_count": 2
  },
  {
   "metadata": {
    "ExecuteTime": {
     "end_time": "2024-07-09T13:57:30.938212Z",
     "start_time": "2024-07-09T13:57:30.932371Z"
    }
   },
   "cell_type": "code",
   "source": [
    "template = \"\"\"{country}의 수도는 어디인가요?\"\"\"\n",
    "prompt = PromptTemplate.from_template(template=template)\n",
    "prompt"
   ],
   "id": "f33010050d8034f0",
   "outputs": [
    {
     "data": {
      "text/plain": [
       "PromptTemplate(input_variables=['country'], template='{country}의 수도는 어디인가요?')"
      ]
     },
     "execution_count": 3,
     "metadata": {},
     "output_type": "execute_result"
    }
   ],
   "execution_count": 3
  },
  {
   "metadata": {
    "ExecuteTime": {
     "end_time": "2024-07-09T13:58:13.502976Z",
     "start_time": "2024-07-09T13:58:13.497474Z"
    }
   },
   "cell_type": "code",
   "source": [
    "prompt1 = prompt.format(country=\"미국\")\n",
    "prompt1"
   ],
   "id": "587a30b7e74ac2a6",
   "outputs": [
    {
     "data": {
      "text/plain": [
       "'미국의 수도는 어디인가요?'"
      ]
     },
     "execution_count": 5,
     "metadata": {},
     "output_type": "execute_result"
    }
   ],
   "execution_count": 5
  },
  {
   "metadata": {
    "ExecuteTime": {
     "end_time": "2024-07-09T13:58:29.553071Z",
     "start_time": "2024-07-09T13:58:29.546959Z"
    }
   },
   "cell_type": "code",
   "source": [
    "prompt2 = prompt.format(country=\"영국\")\n",
    "prompt2"
   ],
   "id": "d04c3cc4e292004e",
   "outputs": [
    {
     "data": {
      "text/plain": [
       "'영국의 수도는 어디인가요?'"
      ]
     },
     "execution_count": 6,
     "metadata": {},
     "output_type": "execute_result"
    }
   ],
   "execution_count": 6
  },
  {
   "metadata": {
    "ExecuteTime": {
     "end_time": "2024-07-09T13:59:33.255490Z",
     "start_time": "2024-07-09T13:59:33.209089Z"
    }
   },
   "cell_type": "code",
   "source": "llm= ChatOpenAI(model_name='gpt-4o',temperature=0.1)\n",
   "id": "573ec2d15e63189",
   "outputs": [],
   "execution_count": 8
  },
  {
   "metadata": {
    "ExecuteTime": {
     "end_time": "2024-07-09T14:00:49.255239Z",
     "start_time": "2024-07-09T14:00:49.251347Z"
    }
   },
   "cell_type": "code",
   "source": "chain = prompt|llm|StrOutputParser()",
   "id": "344d64475ad635ad",
   "outputs": [],
   "execution_count": 12
  },
  {
   "metadata": {
    "ExecuteTime": {
     "end_time": "2024-07-09T14:02:39.591044Z",
     "start_time": "2024-07-09T14:02:37.386612Z"
    }
   },
   "cell_type": "code",
   "source": "chain.invoke({\"country\":\"파퓨아뉴기니\"})",
   "id": "1f5b047a639ef0a4",
   "outputs": [
    {
     "data": {
      "text/plain": [
       "'파퓨아뉴기니의 수도는 포트모르즈비(Port Moresby)입니다. 포트모르즈비는 나라의 남동부 해안에 위치해 있으며, 파퓨아뉴기니의 정치, 경제, 문화의 중심지입니다.'"
      ]
     },
     "execution_count": 17,
     "metadata": {},
     "output_type": "execute_result"
    }
   ],
   "execution_count": 17
  },
  {
   "metadata": {
    "ExecuteTime": {
     "end_time": "2024-07-09T14:05:08.757038Z",
     "start_time": "2024-07-09T14:05:08.751515Z"
    }
   },
   "cell_type": "code",
   "source": [
    "template = \"\"\"{country}의 수도는 어디인가요?그리고 {country}의 유명한 {topic}이 뭔가요?\"\"\"\n",
    "prompt = PromptTemplate.from_template(template=template)\n",
    "prompt"
   ],
   "id": "edb44889b16e4c8f",
   "outputs": [
    {
     "data": {
      "text/plain": [
       "PromptTemplate(input_variables=['country', 'topic'], template='{country}의 수도는 어디인가요?그리고 {country}의 유명한 {topic}이 뭔가요?')"
      ]
     },
     "execution_count": 18,
     "metadata": {},
     "output_type": "execute_result"
    }
   ],
   "execution_count": 18
  },
  {
   "metadata": {
    "ExecuteTime": {
     "end_time": "2024-07-09T14:05:46.270071Z",
     "start_time": "2024-07-09T14:05:46.266568Z"
    }
   },
   "cell_type": "code",
   "source": "chain = prompt|llm|StrOutputParser()",
   "id": "cbbc2de6949e0830",
   "outputs": [],
   "execution_count": 19
  },
  {
   "metadata": {
    "ExecuteTime": {
     "end_time": "2024-07-09T14:06:04.673631Z",
     "start_time": "2024-07-09T14:05:58.920181Z"
    }
   },
   "cell_type": "code",
   "source": "chain.invoke({\"country\":\"파퓨아뉴기니\",\"topic\":\"음식\"})",
   "id": "f51f8b65054e8c48",
   "outputs": [
    {
     "data": {
      "text/plain": [
       "'파푸아뉴기니의 수도는 포트모르즈비(Port Moresby)입니다. 포트모르즈비는 파푸아뉴기니의 정치, 경제, 문화의 중심지로서 중요한 역할을 하고 있습니다.\\n\\n파푸아뉴기니의 유명한 음식 중 하나는 \"무무(Mumu)\"입니다. 무무는 전통적인 방식으로 준비되는 요리로, 주로 돼지고기, 닭고기, 생선, 채소 등을 바나나 잎에 싸서 땅에 파놓은 구덩이에 뜨거운 돌을 넣어 익히는 방식으로 조리됩니다. 이 과정은 몇 시간에 걸쳐 천천히 이루어지며, 그 결과로 매우 풍부한 맛과 향을 지닌 요리가 완성됩니다. 무무는 종종 축제나 특별한 행사에서 즐겨 먹는 음식입니다.'"
      ]
     },
     "execution_count": 20,
     "metadata": {},
     "output_type": "execute_result"
    }
   ],
   "execution_count": 20
  },
  {
   "metadata": {
    "ExecuteTime": {
     "end_time": "2024-07-09T14:15:01.336024Z",
     "start_time": "2024-07-09T14:14:57.470674Z"
    }
   },
   "cell_type": "code",
   "source": [
    "response = chain.stream({\"country\":\"파퓨아뉴기니\",\"topic\":\"음식\"})\n",
    "answer = \"\"\n",
    "for token in response:\n",
    "    print(token)\n",
    "    answer += token"
   ],
   "id": "c460e8c7cb36e78d",
   "outputs": [
    {
     "name": "stdout",
     "output_type": "stream",
     "text": [
      "\n",
      "파\n",
      "푸\n",
      "아\n",
      "뉴\n",
      "기\n",
      "니\n",
      "의\n",
      " 수도\n",
      "는\n",
      " 포\n",
      "트\n",
      "모\n",
      "르\n",
      "즈\n",
      "비\n",
      "(\n",
      "Port\n",
      " M\n",
      "ores\n",
      "by\n",
      ")\n",
      "입니다\n",
      ".\n",
      " \n",
      "\n",
      "\n",
      "파\n",
      "푸\n",
      "아\n",
      "뉴\n",
      "기\n",
      "니\n",
      "의\n",
      " 유명\n",
      "한\n",
      " 음식\n",
      " 중\n",
      " 하나\n",
      "는\n",
      " \"\n",
      "무\n",
      "무\n",
      "(M\n",
      "umu\n",
      ")\"\n",
      "입니다\n",
      ".\n",
      " 무\n",
      "무\n",
      "는\n",
      " 전\n",
      "통\n",
      "적인\n",
      " 방식\n",
      "으로\n",
      " 요\n",
      "리\n",
      "된\n",
      " 음식\n",
      "으로\n",
      ",\n",
      " 주\n",
      "로\n",
      " 돼\n",
      "지고\n",
      "기\n",
      ",\n",
      " 닭\n",
      "고\n",
      "기\n",
      ",\n",
      " 생\n",
      "선\n",
      ",\n",
      " 고\n",
      "구\n",
      "마\n",
      ",\n",
      " 타\n",
      "로\n",
      ",\n",
      " 야\n",
      "채\n",
      " 등을\n",
      " 바\n",
      "나\n",
      "나\n",
      " 잎\n",
      "에\n",
      " 싸\n",
      "서\n",
      " 땅\n",
      "에\n",
      " 파\n",
      "놓\n",
      "은\n",
      " 구\n",
      "덩\n",
      "이에\n",
      " 뜨\n",
      "거\n",
      "운\n",
      " 돌\n",
      "과\n",
      " 함께\n",
      " 넣\n",
      "어\n",
      " 천\n",
      "천\n",
      "히\n",
      " 익\n",
      "히\n",
      "는\n",
      " 방식\n",
      "으로\n",
      " 조\n",
      "리\n",
      "됩니다\n",
      ".\n",
      " 이\n",
      " 과정\n",
      "은\n",
      " 몇\n",
      " 시간\n",
      "에\n",
      " 걸\n",
      "쳐\n",
      " 이루\n",
      "어\n",
      "지\n",
      "며\n",
      ",\n",
      " 음식\n",
      "은\n",
      " 매우\n",
      " 부\n",
      "드\n",
      "럽\n",
      "고\n",
      " 풍\n",
      "미\n",
      "가\n",
      " 깊\n",
      "습니다\n",
      ".\n",
      " 무\n",
      "무\n",
      "는\n",
      " 종\n",
      "종\n",
      " 특별\n",
      "한\n",
      " 행사\n",
      "나\n",
      " 축\n",
      "제\n",
      " 때\n",
      " 준비\n",
      "되는\n",
      " 음식\n",
      "입니다\n",
      ".\n",
      "\n"
     ]
    }
   ],
   "execution_count": 22
  },
  {
   "metadata": {
    "ExecuteTime": {
     "end_time": "2024-07-09T14:15:05.318926Z",
     "start_time": "2024-07-09T14:15:05.310739Z"
    }
   },
   "cell_type": "code",
   "source": "answer",
   "id": "1917f280a3e1cb00",
   "outputs": [
    {
     "data": {
      "text/plain": [
       "'파푸아뉴기니의 수도는 포트모르즈비(Port Moresby)입니다. \\n\\n파푸아뉴기니의 유명한 음식 중 하나는 \"무무(Mumu)\"입니다. 무무는 전통적인 방식으로 요리된 음식으로, 주로 돼지고기, 닭고기, 생선, 고구마, 타로, 야채 등을 바나나 잎에 싸서 땅에 파놓은 구덩이에 뜨거운 돌과 함께 넣어 천천히 익히는 방식으로 조리됩니다. 이 과정은 몇 시간에 걸쳐 이루어지며, 음식은 매우 부드럽고 풍미가 깊습니다. 무무는 종종 특별한 행사나 축제 때 준비되는 음식입니다.'"
      ]
     },
     "execution_count": 23,
     "metadata": {},
     "output_type": "execute_result"
    }
   ],
   "execution_count": 23
  },
  {
   "metadata": {
    "ExecuteTime": {
     "end_time": "2024-07-09T14:18:38.741389Z",
     "start_time": "2024-07-09T14:18:38.737001Z"
    }
   },
   "cell_type": "code",
   "source": [
    "template = \"\"\"{country}의 수도는 어디인가요?\"\"\"\n",
    "prompt = PromptTemplate.from_template(template=template)\n",
    "chain = prompt|llm|StrOutputParser()"
   ],
   "id": "5ee7535ef68e91e3",
   "outputs": [],
   "execution_count": 26
  },
  {
   "metadata": {
    "ExecuteTime": {
     "end_time": "2024-07-09T14:20:12.258942Z",
     "start_time": "2024-07-09T14:20:10.959580Z"
    }
   },
   "cell_type": "code",
   "source": [
    "for token in chain.stream({\"country\":\"스위스\"}):\n",
    "    print(token,end=\"\",flush=True)"
   ],
   "id": "d3e9af2836f238c5",
   "outputs": [
    {
     "name": "stdout",
     "output_type": "stream",
     "text": [
      "스위스의 수도는 베른(Bern)입니다. 베른은 스위스의 행정 중심지로서 연방 정부의 주요 기관들이 위치해 있습니다."
     ]
    }
   ],
   "execution_count": 27
  },
  {
   "metadata": {},
   "cell_type": "markdown",
   "source": "# Batch",
   "id": "e96bba7ea79248d7"
  },
  {
   "metadata": {
    "ExecuteTime": {
     "end_time": "2024-07-09T14:23:58.671607Z",
     "start_time": "2024-07-09T14:23:56.023478Z"
    }
   },
   "cell_type": "code",
   "source": [
    "answer =chain.batch([\n",
    "    {\"country\":\"스위스\"},\n",
    "    {\"country\":\"싱가폴\"},\n",
    "    {\"country\":\"남아공\"},\n",
    "],config={\"max_concurrency)\":2})"
   ],
   "id": "fd6f3b6c641e93fe",
   "outputs": [],
   "execution_count": 28
  },
  {
   "metadata": {
    "ExecuteTime": {
     "end_time": "2024-07-09T14:24:01.135680Z",
     "start_time": "2024-07-09T14:24:01.130862Z"
    }
   },
   "cell_type": "code",
   "source": "answer",
   "id": "896dddc808f480bb",
   "outputs": [
    {
     "data": {
      "text/plain": [
       "['스위스의 수도는 베른(Bern)입니다. 베른은 스위스의 행정 중심지로서 연방 정부의 주요 기관들이 위치해 있습니다.',\n",
       " '싱가포르의 수도는 싱가포르입니다. 싱가포르는 도시 국가로, 국가 전체가 하나의 도시로 구성되어 있습니다. 따라서 별도의 수도가 존재하지 않습니다.',\n",
       " '남아프리카 공화국은 세 개의 수도를 가지고 있습니다. 행정 수도는 프리토리아(Pretoria), 입법 수도는 케이프타운(Cape Town), 사법 수도는 블룸폰테인(Bloemfontein)입니다. 각 수도는 남아프리카 공화국의 다른 정부 기능을 담당하고 있습니다.']"
      ]
     },
     "execution_count": 29,
     "metadata": {},
     "output_type": "execute_result"
    }
   ],
   "execution_count": 29
  },
  {
   "metadata": {},
   "cell_type": "code",
   "outputs": [],
   "execution_count": null,
   "source": "# 비동기",
   "id": "cab20f2c7cf2ad30"
  }
 ],
 "metadata": {
  "kernelspec": {
   "display_name": "Python 3",
   "language": "python",
   "name": "python3"
  },
  "language_info": {
   "codemirror_mode": {
    "name": "ipython",
    "version": 2
   },
   "file_extension": ".py",
   "mimetype": "text/x-python",
   "name": "python",
   "nbconvert_exporter": "python",
   "pygments_lexer": "ipython2",
   "version": "2.7.6"
  }
 },
 "nbformat": 4,
 "nbformat_minor": 5
}
