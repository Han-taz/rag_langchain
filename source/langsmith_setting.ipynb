{
 "cells": [
  {
   "cell_type": "code",
   "id": "initial_id",
   "metadata": {
    "collapsed": true,
    "ExecuteTime": {
     "end_time": "2024-07-09T13:44:18.639904Z",
     "start_time": "2024-07-09T13:44:18.632756Z"
    }
   },
   "source": [
    "from dotenv import load_dotenv\n",
    "import os\n",
    "\n",
    "load_dotenv(\"/home/kevin/projects/rag_langchain/.env\")\n"
   ],
   "outputs": [
    {
     "data": {
      "text/plain": [
       "True"
      ]
     },
     "execution_count": 24,
     "metadata": {},
     "output_type": "execute_result"
    }
   ],
   "execution_count": 24
  },
  {
   "metadata": {
    "ExecuteTime": {
     "end_time": "2024-07-09T13:21:54.108118Z",
     "start_time": "2024-07-09T13:21:52.592699Z"
    }
   },
   "cell_type": "code",
   "source": "from langchain_openai import ChatOpenAI",
   "id": "d3021b58129fdd2e",
   "outputs": [],
   "execution_count": 3
  },
  {
   "metadata": {
    "ExecuteTime": {
     "end_time": "2024-07-09T13:45:44.207986Z",
     "start_time": "2024-07-09T13:45:44.202944Z"
    }
   },
   "cell_type": "code",
   "source": [
    "def langsmith(project_name=None, set_enable=True):\n",
    "\n",
    "    if set_enable:\n",
    "        result = os.environ.get(\"LANGSMITH_API_KEY\")\n",
    "        if result is None or result.strip() == \"\":\n",
    "            print(\n",
    "                \"LangChain API Key가 설정되지 않았습니다. 참고: https://wikidocs.net/250954\"\n",
    "            )\n",
    "            return\n",
    "        os.environ[\"LANGCHAIN_ENDPOINT\"] = (\n",
    "            \"https://api.smith.langchain.com\"  # LangSmith API 엔드포인트\n",
    "        )\n",
    "        os.environ[\"LANGCHAIN_TRACING_V2\"] = \"true\"  # true: 활성화\n",
    "        os.environ[\"LANGCHAIN_PROJECT\"] = project_name  # 프로젝트명\n",
    "        print(f\"LangSmith 추적을 시작합니다.\\n[프로젝트명]\\n{project_name}\")\n",
    "    else:\n",
    "        os.environ[\"LANGCHAIN_TRACING_V2\"] = \"false\"  # false: 비활성화\n",
    "        print(\"LangSmith 추적을 하지 않습니다.\")\n",
    "\n",
    "\n",
    "def env_variable(key, value):\n",
    "    os.environ[key] = value\n",
    "\n",
    "langsmith(project_name=\"llm_test\")"
   ],
   "id": "27f30a7b7f306d91",
   "outputs": [
    {
     "name": "stdout",
     "output_type": "stream",
     "text": [
      "LangSmith 추적을 시작합니다.\n",
      "[프로젝트명]\n",
      "llm_test\n"
     ]
    }
   ],
   "execution_count": 26
  },
  {
   "metadata": {
    "ExecuteTime": {
     "end_time": "2024-07-09T13:45:55.291497Z",
     "start_time": "2024-07-09T13:45:55.249067Z"
    }
   },
   "cell_type": "code",
   "source": "llm= ChatOpenAI(model_name='gpt-4o',temperature=0.1)",
   "id": "6a9811d5b1f68f27",
   "outputs": [],
   "execution_count": 27
  },
  {
   "metadata": {
    "ExecuteTime": {
     "end_time": "2024-07-09T13:45:56.818959Z",
     "start_time": "2024-07-09T13:45:55.469747Z"
    }
   },
   "cell_type": "code",
   "source": [
    "question = \"대한민국 수도는?\"\n",
    "response = llm.invoke(question)\n",
    "print(response)"
   ],
   "id": "bbdeb682daf35837",
   "outputs": [
    {
     "name": "stdout",
     "output_type": "stream",
     "text": [
      "content='대한민국의 수도는 서울특별시입니다. 서울은 대한민국의 정치, 경제, 문화의 중심지로서 중요한 역할을 하고 있습니다.' response_metadata={'token_usage': {'completion_tokens': 31, 'prompt_tokens': 12, 'total_tokens': 43}, 'model_name': 'gpt-4o-2024-05-13', 'system_fingerprint': 'fp_d576307f90', 'finish_reason': 'stop', 'logprobs': None} id='run-1bc30aff-466e-4296-8aed-c48682146864-0' usage_metadata={'input_tokens': 12, 'output_tokens': 31, 'total_tokens': 43}\n"
     ]
    }
   ],
   "execution_count": 28
  },
  {
   "metadata": {
    "ExecuteTime": {
     "end_time": "2024-07-09T13:25:05.230151Z",
     "start_time": "2024-07-09T13:25:05.225516Z"
    }
   },
   "cell_type": "code",
   "source": "response.content",
   "id": "5f48f005e90da0cf",
   "outputs": [
    {
     "data": {
      "text/plain": [
       "'대한민국의 수도는 서울입니다. 서울은 대한민국의 정치, 경제, 문화의 중심지로서 중요한 역할을 하고 있습니다.'"
      ]
     },
     "execution_count": 6,
     "metadata": {},
     "output_type": "execute_result"
    }
   ],
   "execution_count": 6
  },
  {
   "metadata": {
    "ExecuteTime": {
     "end_time": "2024-07-09T13:25:10.765845Z",
     "start_time": "2024-07-09T13:25:10.759736Z"
    }
   },
   "cell_type": "code",
   "source": "response.response_metadata",
   "id": "cc677d17df9cc64c",
   "outputs": [
    {
     "data": {
      "text/plain": [
       "{'token_usage': {'completion_tokens': 28,\n",
       "  'prompt_tokens': 12,\n",
       "  'total_tokens': 40},\n",
       " 'model_name': 'gpt-4o-2024-05-13',\n",
       " 'system_fingerprint': 'fp_d576307f90',\n",
       " 'finish_reason': 'stop',\n",
       " 'logprobs': None}"
      ]
     },
     "execution_count": 7,
     "metadata": {},
     "output_type": "execute_result"
    }
   ],
   "execution_count": 7
  },
  {
   "metadata": {},
   "cell_type": "markdown",
   "source": [
    "# log prob 활성화\n",
    "주어진 텍스트에 대한 모델의 **토큰 확률의 로그값**을 의맣비낟. 토근이란 문장을 구성하는 개별 단어나 문자 드으이 요소를 의미하고, 확률은 **모델이 그 토큰을 예측할 확률**을 나타냅니다"
   ],
   "id": "82ca7804e47336bb"
  },
  {
   "metadata": {
    "ExecuteTime": {
     "end_time": "2024-07-09T13:27:33.834312Z",
     "start_time": "2024-07-09T13:27:33.792422Z"
    }
   },
   "cell_type": "code",
   "source": "llm_with_logprob = ChatOpenAI(model_name=\"gpt-3.5-turbo\",temperature=0.1,max_tokens=1024).bind(logprobs=True)",
   "id": "54905a3fabd2f750",
   "outputs": [],
   "execution_count": 8
  },
  {
   "metadata": {
    "ExecuteTime": {
     "end_time": "2024-07-09T13:27:57.006979Z",
     "start_time": "2024-07-09T13:27:56.356344Z"
    }
   },
   "cell_type": "code",
   "source": [
    "response=llm_with_logprob.invoke(question)\n",
    "print(response)"
   ],
   "id": "e9905d7d73c593d6",
   "outputs": [
    {
     "name": "stdout",
     "output_type": "stream",
     "text": [
      "content='서울특별시입니다.' response_metadata={'token_usage': {'completion_tokens': 10, 'prompt_tokens': 17, 'total_tokens': 27}, 'model_name': 'gpt-3.5-turbo-0125', 'system_fingerprint': None, 'finish_reason': 'stop', 'logprobs': {'content': [{'token': '서', 'bytes': [236, 132, 156], 'logprob': -0.06669037, 'top_logprobs': []}, {'token': '\\\\xec\\\\x9a', 'bytes': [236, 154], 'logprob': 0.0, 'top_logprobs': []}, {'token': '\\\\xb8', 'bytes': [184], 'logprob': 0.0, 'top_logprobs': []}, {'token': '\\\\xed\\\\x8a', 'bytes': [237, 138], 'logprob': -0.32889378, 'top_logprobs': []}, {'token': '\\\\xb9', 'bytes': [185], 'logprob': 0.0, 'top_logprobs': []}, {'token': '\\\\xeb\\\\xb3', 'bytes': [235, 179], 'logprob': 0.0, 'top_logprobs': []}, {'token': '\\\\x84', 'bytes': [132], 'logprob': 0.0, 'top_logprobs': []}, {'token': '시', 'bytes': [236, 139, 156], 'logprob': -7.89631e-07, 'top_logprobs': []}, {'token': '입니다', 'bytes': [236, 158, 133, 235, 139, 136, 235, 139, 164], 'logprob': -0.3340695, 'top_logprobs': []}, {'token': '.', 'bytes': [46], 'logprob': -1.2664457e-06, 'top_logprobs': []}]}} id='run-0f8c5003-7b92-4435-8ea2-e3b04d305ba7-0' usage_metadata={'input_tokens': 17, 'output_tokens': 10, 'total_tokens': 27}\n"
     ]
    }
   ],
   "execution_count": 9
  },
  {
   "metadata": {
    "ExecuteTime": {
     "end_time": "2024-07-09T13:28:39.264601Z",
     "start_time": "2024-07-09T13:28:39.259432Z"
    }
   },
   "cell_type": "code",
   "source": "response.response_metadata",
   "id": "1eeb41ab721b611f",
   "outputs": [
    {
     "data": {
      "text/plain": [
       "{'token_usage': {'completion_tokens': 10,\n",
       "  'prompt_tokens': 17,\n",
       "  'total_tokens': 27},\n",
       " 'model_name': 'gpt-3.5-turbo-0125',\n",
       " 'system_fingerprint': None,\n",
       " 'finish_reason': 'stop',\n",
       " 'logprobs': {'content': [{'token': '서',\n",
       "    'bytes': [236, 132, 156],\n",
       "    'logprob': -0.06669037,\n",
       "    'top_logprobs': []},\n",
       "   {'token': '\\\\xec\\\\x9a',\n",
       "    'bytes': [236, 154],\n",
       "    'logprob': 0.0,\n",
       "    'top_logprobs': []},\n",
       "   {'token': '\\\\xb8', 'bytes': [184], 'logprob': 0.0, 'top_logprobs': []},\n",
       "   {'token': '\\\\xed\\\\x8a',\n",
       "    'bytes': [237, 138],\n",
       "    'logprob': -0.32889378,\n",
       "    'top_logprobs': []},\n",
       "   {'token': '\\\\xb9', 'bytes': [185], 'logprob': 0.0, 'top_logprobs': []},\n",
       "   {'token': '\\\\xeb\\\\xb3',\n",
       "    'bytes': [235, 179],\n",
       "    'logprob': 0.0,\n",
       "    'top_logprobs': []},\n",
       "   {'token': '\\\\x84', 'bytes': [132], 'logprob': 0.0, 'top_logprobs': []},\n",
       "   {'token': '시',\n",
       "    'bytes': [236, 139, 156],\n",
       "    'logprob': -7.89631e-07,\n",
       "    'top_logprobs': []},\n",
       "   {'token': '입니다',\n",
       "    'bytes': [236, 158, 133, 235, 139, 136, 235, 139, 164],\n",
       "    'logprob': -0.3340695,\n",
       "    'top_logprobs': []},\n",
       "   {'token': '.',\n",
       "    'bytes': [46],\n",
       "    'logprob': -1.2664457e-06,\n",
       "    'top_logprobs': []}]}}"
      ]
     },
     "execution_count": 11,
     "metadata": {},
     "output_type": "execute_result"
    }
   ],
   "execution_count": 11
  },
  {
   "metadata": {},
   "cell_type": "markdown",
   "source": "# 스트리밍",
   "id": "6cfdf22b092cb7a3"
  },
  {
   "metadata": {
    "ExecuteTime": {
     "end_time": "2024-07-09T13:46:03.316777Z",
     "start_time": "2024-07-09T13:46:03.313563Z"
    }
   },
   "cell_type": "code",
   "source": "answer = llm.stream(\"대한민국의 헌법에 대해 알려줘\")",
   "id": "e0b41ea712d5874",
   "outputs": [],
   "execution_count": 29
  },
  {
   "metadata": {
    "ExecuteTime": {
     "end_time": "2024-07-09T13:46:14.664670Z",
     "start_time": "2024-07-09T13:46:03.536708Z"
    }
   },
   "cell_type": "code",
   "source": [
    "answer_content =\"\"\n",
    "for token in answer:\n",
    "    print(token.content, end=\"\", flush=True)\n",
    "    answer_content += token.content"
   ],
   "id": "7e6883fba72acbcb",
   "outputs": [
    {
     "name": "stdout",
     "output_type": "stream",
     "text": [
      "대한민국 헌법은 대한민국의 최고 법규로, 국가의 기본적인 통치 구조와 국민의 기본권을 규정하고 있습니다. 현재 시행되고 있는 헌법은 1987년에 개정된 제6공화국 헌법입니다. 이 헌법은 민주화 운동의 결과로 제정되었으며, 국민의 기본권 보장과 민주주의 원칙을 강화하는 내용을 담고 있습니다.\n",
      "\n",
      "헌법의 주요 내용은 다음과 같습니다:\n",
      "\n",
      "1. **전문**: 대한민국의 역사적 배경과 헌법 제정의 목적을 서술하고 있습니다.\n",
      "\n",
      "2. **총강**: 대한민국의 국가 형태, 영토, 국민주권, 국제 평화주의 등을 규정하고 있습니다.\n",
      "\n",
      "3. **국민의 권리와 의무**: 국민의 기본권과 자유, 평등, 사회적 권리 등을 규정하고 있으며, 국가가 이를 보장할 의무를 명시하고 있습니다.\n",
      "\n",
      "4. **국회**: 입법부인 국회의 구성, 권한, 기능 등을 규정하고 있습니다.\n",
      "\n",
      "5. **정부**: 행정부의 구성, 대통령의 권한과 의무, 국무총리와 국무위원의 역할 등을 규정하고 있습니다.\n",
      "\n",
      "6. **법원**: 사법부의 구성, 법관의 독립, 재판의 공정성 등을 규정하고 있습니다.\n",
      "\n",
      "7. **헌법재판소**: 헌법재판소의 설치와 기능, 헌법 소원, 위헌 법률 심판 등을 규정하고 있습니다.\n",
      "\n",
      "8. **선거관리**: 선거의 공정성과 투명성을 보장하기 위한 선거관리위원회의 설치와 기능을 규정하고 있습니다.\n",
      "\n",
      "9. **지방자치**: 지방자치단체의 설치와 운영, 지방자치의 원칙 등을 규정하고 있습니다.\n",
      "\n",
      "10. **경제**: 경제 질서와 관련된 기본 원칙, 경제 민주화, 재산권 보호 등을 규정하고 있습니다.\n",
      "\n",
      "11. **개정**: 헌법 개정 절차와 요건을 규정하고 있습니다.\n",
      "\n",
      "대한민국 헌법은 국민의 기본권을 보호하고, 민주주의와 법치주의를 실현하기 위한 중요한 법적 기반을 제공합니다. 헌법 개정은 국회의 재적 의원 3분의 2 이상의 찬성과 국민투표를 통해 이루어지며, 이는 헌법의 안정성과 국민적 합의를 중요시하는 절차입니다."
     ]
    }
   ],
   "execution_count": 30
  },
  {
   "metadata": {
    "ExecuteTime": {
     "end_time": "2024-07-09T13:39:41.566272Z",
     "start_time": "2024-07-09T13:39:41.560943Z"
    }
   },
   "cell_type": "code",
   "source": "answer_content",
   "id": "2c226e14296f01f1",
   "outputs": [
    {
     "data": {
      "text/plain": [
       "'대한민국 헌법은 대한민국의 최고 법률로, 국가의 기본적인 통치 구조와 국민의 기본권을 규정하고 있습니다. 현재 시행되고 있는 헌법은 1987년에 개정된 제6공화국 헌법입니다. 주요 내용은 다음과 같습니다:\\n\\n1. **전문**: 대한민국의 건국 이념과 헌법의 기본 정신을 담고 있습니다. 자유민주주의와 평화통일, 국민 주권 등을 강조합니다.\\n\\n2. **총강**: 국가의 기본 원칙과 국민의 권리와 의무를 규정합니다. 대한민국은 민주공화국이며, 주권은 국민에게 있고 모든 권력은 국민으로부터 나온다고 명시하고 있습니다.\\n\\n3. **기본권**: 국민의 기본적인 권리와 자유를 보호하는 조항들입니다. 여기에는 평등권, 자유권, 사회권, 청구권, 참정권 등이 포함됩니다.\\n\\n4. **국회**: 입법부인 국회의 구성과 기능, 권한 등을 규정합니다. 국회는 국민의 대표 기관으로서 법률을 제정하고 정부를 견제하는 역할을 합니다.\\n\\n5. **정부**: 행정부의 구성과 기능, 권한 등을 규정합니다. 대통령은 국가 원수이자 행정부의 수반으로서 중요한 역할을 합니다.\\n\\n6. **법원**: 사법부의 구성과 기능, 권한 등을 규정합니다. 법원은 독립된 기관으로서 법률을 해석하고 적용하는 역할을 합니다.\\n\\n7. **헌법재판소**: 헌법재판소의 구성과 기능, 권한 등을 규정합니다. 헌법재판소는 헌법의 수호와 해석을 담당하며, 위헌 법률 심판, 탄핵 심판, 정당 해산 심판 등을 수행합니다.\\n\\n8. **선거관리**: 선거의 공정성과 투명성을 보장하기 위한 규정을 담고 있습니다. 중앙선거관리위원회가 독립적으로 운영됩니다.\\n\\n9. **지방자치**: 지방자치제도의 기본 원칙과 지방자치단체의 권한 등을 규정합니다.\\n\\n10. **경제**: 경제 질서와 관련된 기본 원칙을 규정합니다. 자유롭고 공정한 경제 활동을 보장하며, 경제 민주화를 추구합니다.\\n\\n11. **개정**: 헌법 개정 절차를 규정합니다. 헌법 개정은 국회의 재적 의원 3분의 2 이상의 찬성과 국민투표를 통해 이루어집니다.\\n\\n대한민국 헌법은 국민의 기본권을 보호하고 민주주의와 법치주의를 실현하기 위한 중요한 법적 기초를 제공합니다.'"
      ]
     },
     "execution_count": 23,
     "metadata": {},
     "output_type": "execute_result"
    }
   ],
   "execution_count": 23
  },
  {
   "metadata": {},
   "cell_type": "code",
   "outputs": [],
   "execution_count": null,
   "source": "",
   "id": "e829ad47ddc70041"
  }
 ],
 "metadata": {
  "kernelspec": {
   "display_name": "Python 3",
   "language": "python",
   "name": "python3"
  },
  "language_info": {
   "codemirror_mode": {
    "name": "ipython",
    "version": 2
   },
   "file_extension": ".py",
   "mimetype": "text/x-python",
   "name": "python",
   "nbconvert_exporter": "python",
   "pygments_lexer": "ipython2",
   "version": "2.7.6"
  }
 },
 "nbformat": 4,
 "nbformat_minor": 5
}
