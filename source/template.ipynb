{
 "cells": [
  {
   "cell_type": "code",
   "id": "initial_id",
   "metadata": {
    "collapsed": true,
    "ExecuteTime": {
     "end_time": "2024-07-11T14:13:57.524908Z",
     "start_time": "2024-07-11T14:13:56.234499Z"
    }
   },
   "source": [
    "from dotenv import load_dotenv\n",
    "import os\n",
    "from langchain_openai import ChatOpenAI\n",
    "from langchain_core.output_parsers import StrOutputParser\n",
    "from langchain_core.prompts import PromptTemplate\n",
    "load_dotenv(\"/home/kevin/projects/rag_langchain/.env\")\n",
    "def langsmith(project_name=None, set_enable=True):\n",
    "\n",
    "    if set_enable:\n",
    "        result = os.environ.get(\"LANGSMITH_API_KEY\")\n",
    "        if result is None or result.strip() == \"\":\n",
    "            print(\n",
    "                \"LangChain API Key가 설정되지 않았습니다.\"\n",
    "            )\n",
    "            return\n",
    "        os.environ[\"LANGCHAIN_ENDPOINT\"] = (\n",
    "            \"https://api.smith.langchain.com\"  # LangSmith API 엔드포인트\n",
    "        )\n",
    "        os.environ[\"LANGCHAIN_TRACING_V2\"] = \"true\"  # true: 활성화\n",
    "        os.environ[\"LANGCHAIN_PROJECT\"] = project_name  # 프로젝트명\n",
    "        print(f\"LangSmith 추적을 시작합니다.\\n[프로젝트명]\\n{project_name}\")\n",
    "    else:\n",
    "        os.environ[\"LANGCHAIN_TRACING_V2\"] = \"false\"  # false: 비활성화\n",
    "        print(\"LangSmith 추적을 하지 않습니다.\")\n",
    "\n",
    "langsmith(project_name=\"lcel_dev\")"
   ],
   "outputs": [
    {
     "name": "stdout",
     "output_type": "stream",
     "text": [
      "LangSmith 추적을 시작합니다.\n",
      "[프로젝트명]\n",
      "lcel_dev\n"
     ]
    }
   ],
   "execution_count": 1
  },
  {
   "metadata": {
    "ExecuteTime": {
     "end_time": "2024-07-11T14:14:15.173574Z",
     "start_time": "2024-07-11T14:14:15.120872Z"
    }
   },
   "cell_type": "code",
   "source": "llm = ChatOpenAI()",
   "id": "56f5f73365c855d",
   "outputs": [],
   "execution_count": 2
  },
  {
   "metadata": {
    "ExecuteTime": {
     "end_time": "2024-07-11T14:14:32.442885Z",
     "start_time": "2024-07-11T14:14:32.438239Z"
    }
   },
   "cell_type": "code",
   "source": "from langchain_core.prompts import PromptTemplate",
   "id": "b9b816c109fe17eb",
   "outputs": [],
   "execution_count": 3
  },
  {
   "metadata": {
    "ExecuteTime": {
     "end_time": "2024-07-11T14:17:58.630829Z",
     "start_time": "2024-07-11T14:17:58.627731Z"
    }
   },
   "cell_type": "code",
   "source": [
    "template = \"{year}년도의 F1 그랑프리 우승자가 누구인가요?\"\n",
    "prompt = PromptTemplate.from_template(template=template)"
   ],
   "id": "973f5c69e670f33a",
   "outputs": [],
   "execution_count": 12
  },
  {
   "metadata": {
    "ExecuteTime": {
     "end_time": "2024-07-11T14:15:34.995100Z",
     "start_time": "2024-07-11T14:15:34.988374Z"
    }
   },
   "cell_type": "code",
   "source": "prompt",
   "id": "24ee7b6eea090107",
   "outputs": [
    {
     "data": {
      "text/plain": [
       "PromptTemplate(input_variables=['year'], template='{year}년도의 F1 그랑프리 우승자가 누구인가요?')"
      ]
     },
     "execution_count": 5,
     "metadata": {},
     "output_type": "execute_result"
    }
   ],
   "execution_count": 5
  },
  {
   "metadata": {
    "ExecuteTime": {
     "end_time": "2024-07-11T14:16:42.830304Z",
     "start_time": "2024-07-11T14:16:42.825342Z"
    }
   },
   "cell_type": "code",
   "source": [
    "prompt.format(year=\"2020\")\n",
    "prompt"
   ],
   "id": "90b50a7a77a5858d",
   "outputs": [
    {
     "data": {
      "text/plain": [
       "'2020년도의 F1 그랑프리 우승자가 누구인가요?'"
      ]
     },
     "execution_count": 8,
     "metadata": {},
     "output_type": "execute_result"
    }
   ],
   "execution_count": 8
  },
  {
   "metadata": {
    "ExecuteTime": {
     "end_time": "2024-07-11T14:28:03.201258Z",
     "start_time": "2024-07-11T14:28:03.196875Z"
    }
   },
   "cell_type": "code",
   "source": "chain = prompt | llm |StrOutputParser()",
   "id": "4d5cd8f41e94fcd5",
   "outputs": [],
   "execution_count": 13
  },
  {
   "metadata": {
    "ExecuteTime": {
     "end_time": "2024-07-11T14:33:12.731054Z",
     "start_time": "2024-07-11T14:33:11.480217Z"
    }
   },
   "cell_type": "code",
   "source": "chain.invoke(\"2020\")",
   "id": "e99146517b8f9320",
   "outputs": [
    {
     "data": {
      "text/plain": [
       "'2020년도 F1 그랑프리 우승자는 루이스 해밀턴(Lewis Hamilton)입니다.'"
      ]
     },
     "execution_count": 21,
     "metadata": {},
     "output_type": "execute_result"
    }
   ],
   "execution_count": 21
  },
  {
   "metadata": {
    "ExecuteTime": {
     "end_time": "2024-07-11T14:34:28.394887Z",
     "start_time": "2024-07-11T14:34:28.391513Z"
    }
   },
   "cell_type": "code",
   "source": "template = \"{year}의 F1 그랑프리 우승자와 그 해 시즌에 우승한 {point}를 알려줘\"",
   "id": "9242e8fb8fbadc50",
   "outputs": [],
   "execution_count": 25
  },
  {
   "metadata": {
    "ExecuteTime": {
     "end_time": "2024-07-11T14:34:29.114472Z",
     "start_time": "2024-07-11T14:34:29.108135Z"
    }
   },
   "cell_type": "code",
   "source": [
    "prompt = PromptTemplate(\n",
    "    template=template,\n",
    "    input_variables=[\"year\"],\n",
    "    partial_variables={\n",
    "        \"point\":\"서킷\"\n",
    "    },\n",
    ")\n",
    "prompt"
   ],
   "id": "25144f269ffabf99",
   "outputs": [
    {
     "data": {
      "text/plain": [
       "PromptTemplate(input_variables=['year'], partial_variables={'point': '서킷'}, template='{year}의 F1 그랑프리 우승자와 그 해 시즌에 우승한 {point}를 알려줘')"
      ]
     },
     "execution_count": 26,
     "metadata": {},
     "output_type": "execute_result"
    }
   ],
   "execution_count": 26
  },
  {
   "metadata": {
    "ExecuteTime": {
     "end_time": "2024-07-11T14:34:29.788689Z",
     "start_time": "2024-07-11T14:34:29.783458Z"
    }
   },
   "cell_type": "code",
   "source": "prompt.format(year=\"2019\")",
   "id": "a27cf69a2581b043",
   "outputs": [
    {
     "data": {
      "text/plain": [
       "'2019의 F1 그랑프리 우승자와 그 해 시즌에 우승한 서킷를 알려줘'"
      ]
     },
     "execution_count": 27,
     "metadata": {},
     "output_type": "execute_result"
    }
   ],
   "execution_count": 27
  },
  {
   "metadata": {
    "ExecuteTime": {
     "end_time": "2024-07-11T14:35:37.637068Z",
     "start_time": "2024-07-11T14:35:37.633779Z"
    }
   },
   "cell_type": "code",
   "source": "prompt = PromptTemplate.from_template(template)",
   "id": "f48e7cae84d4394f",
   "outputs": [],
   "execution_count": 30
  },
  {
   "metadata": {
    "ExecuteTime": {
     "end_time": "2024-07-11T14:35:44.953914Z",
     "start_time": "2024-07-11T14:35:44.949648Z"
    }
   },
   "cell_type": "code",
   "source": [
    "prompt_partial = prompt.partial(year=2012)\n",
    "prompt_partial"
   ],
   "id": "4ecd841c10c33504",
   "outputs": [
    {
     "data": {
      "text/plain": [
       "PromptTemplate(input_variables=['point'], partial_variables={'year': 2012}, template='{year}의 F1 그랑프리 우승자와 그 해 시즌에 우승한 {point}를 알려줘')"
      ]
     },
     "execution_count": 32,
     "metadata": {},
     "output_type": "execute_result"
    }
   ],
   "execution_count": 32
  },
  {
   "metadata": {
    "ExecuteTime": {
     "end_time": "2024-07-11T14:37:06.632849Z",
     "start_time": "2024-07-11T14:37:06.628603Z"
    }
   },
   "cell_type": "code",
   "source": "prompt_partial.format(point=\"포인트\")",
   "id": "ae7f9ad2b8fb4165",
   "outputs": [
    {
     "data": {
      "text/plain": [
       "'2012의 F1 그랑프리 우승자와 그 해 시즌에 우승한 포인트를 알려줘'"
      ]
     },
     "execution_count": 33,
     "metadata": {},
     "output_type": "execute_result"
    }
   ],
   "execution_count": 33
  },
  {
   "metadata": {
    "ExecuteTime": {
     "end_time": "2024-07-11T14:38:07.439921Z",
     "start_time": "2024-07-11T14:38:07.436943Z"
    }
   },
   "cell_type": "code",
   "source": "chain = prompt_partial | llm |StrOutputParser()",
   "id": "a0c0081e43fa7e60",
   "outputs": [],
   "execution_count": 36
  },
  {
   "metadata": {
    "ExecuteTime": {
     "end_time": "2024-07-11T14:38:10.564719Z",
     "start_time": "2024-07-11T14:38:08.308785Z"
    }
   },
   "cell_type": "code",
   "source": "chain.invoke(\"서킷\")",
   "id": "6e57947ddaf8e428",
   "outputs": [
    {
     "data": {
      "text/plain": [
       "'2012년 F1 그랑프리 우승자는 세바스티안 베텔이었고, 그 해 시즌에 우승한 서킷은 여러 곳이었습니다. 다만 가장 많이 우승한 서킷은 벨기에 그랑프리를 개최한 스파-프랑쇼르쇼 서킷이었습니다.'"
      ]
     },
     "execution_count": 37,
     "metadata": {},
     "output_type": "execute_result"
    }
   ],
   "execution_count": 37
  },
  {
   "metadata": {
    "ExecuteTime": {
     "end_time": "2024-07-11T14:39:06.012558Z",
     "start_time": "2024-07-11T14:39:04.309800Z"
    }
   },
   "cell_type": "code",
   "source": "chain.invoke({\"year\":\"2022\",\"point\":\"포인트\"})",
   "id": "3adc4d9b78666a75",
   "outputs": [
    {
     "data": {
      "text/plain": [
       "'2022년 F1 그랑프리 우승자는 루이스 해밀턴(Lewis Hamilton)이었고, 그 해 시즌에 우승한 포인트는 총 387점이었습니다.'"
      ]
     },
     "execution_count": 38,
     "metadata": {},
     "output_type": "execute_result"
    }
   ],
   "execution_count": 38
  },
  {
   "metadata": {},
   "cell_type": "markdown",
   "source": [
    "# partial_variables: 부분 변수 채움\n",
    "**partial**을 사용하는 일반적인 용도는 함수를 부분적으로 사용하는 것입니다. 이 사용 사례는 항상 공통된 방식으로 가져오고 싶은 변수 가 있는경우입니다:\n",
    "대표적인 예가 **날짜나 시간**입니다.\n",
    "항상 현재 날짜가 표시되기를 원하는 프롬프트가 있다고 가정해 보겠습니다. 프롬프트에 하드 코딩할 수도 없고, 다른 입력변수와 함께 전달하는 것도 번거롭습니다. 이 경우 항상 현재 날짜를 반환하는 함수를 사용하여 프롬프트르 부분적으로 변경할 수 있으면 매우 편리합니다.\n"
   ],
   "id": "66dd8923be0c91e4"
  },
  {
   "metadata": {},
   "cell_type": "markdown",
   "source": "# 프롬프트 불러오기",
   "id": "8e1889be57e9fd01"
  },
  {
   "metadata": {
    "ExecuteTime": {
     "end_time": "2024-07-11T14:49:32.390753Z",
     "start_time": "2024-07-11T14:49:32.386194Z"
    }
   },
   "cell_type": "code",
   "source": [
    "from langchain_core.prompts import load_prompt\n",
    "prompt = load_prompt(\"./template/f1.yaml\")"
   ],
   "id": "7b414c3748fdcbd1",
   "outputs": [],
   "execution_count": 46
  },
  {
   "metadata": {
    "ExecuteTime": {
     "end_time": "2024-07-11T14:49:32.556728Z",
     "start_time": "2024-07-11T14:49:32.551026Z"
    }
   },
   "cell_type": "code",
   "source": "prompt.format(character=\"가장 긴\")",
   "id": "d85ea06b06ccc3db",
   "outputs": [
    {
     "data": {
      "text/plain": [
       "'f1 서킷 중에서 가장 가장 긴 서킷은 무엇인가요?'"
      ]
     },
     "execution_count": 47,
     "metadata": {},
     "output_type": "execute_result"
    }
   ],
   "execution_count": 47
  },
  {
   "metadata": {
    "ExecuteTime": {
     "end_time": "2024-07-11T14:49:52.941228Z",
     "start_time": "2024-07-11T14:49:52.936429Z"
    }
   },
   "cell_type": "code",
   "source": "chain = prompt | llm |StrOutputParser()",
   "id": "89865a56a81ec1f",
   "outputs": [],
   "execution_count": 48
  },
  {
   "metadata": {
    "ExecuteTime": {
     "end_time": "2024-07-11T14:50:04.656191Z",
     "start_time": "2024-07-11T14:50:03.246033Z"
    }
   },
   "cell_type": "code",
   "source": "chain.invoke(\"가장 긴\")",
   "id": "936de0447fa80546",
   "outputs": [
    {
     "data": {
      "text/plain": [
       "'가장 긴 F1 서킷은 스페인의 카탈루냐 서킷(쿠큘롬)입니다. 총 주행 거리는 4.655km(2.892mi)입니다.'"
      ]
     },
     "execution_count": 49,
     "metadata": {},
     "output_type": "execute_result"
    }
   ],
   "execution_count": 49
  },
  {
   "metadata": {
    "ExecuteTime": {
     "end_time": "2024-07-11T14:51:08.748875Z",
     "start_time": "2024-07-11T14:51:06.774054Z"
    }
   },
   "cell_type": "code",
   "source": [
    "answer = chain.stream(\"직선 구간이 가장 긴\")\n",
    "for token in answer:\n",
    "    print(token,end=\"\",flush=True)"
   ],
   "id": "f0aa8d1668930762",
   "outputs": [
    {
     "name": "stdout",
     "output_type": "stream",
     "text": [
      "가장 직선 구간이 가장 긴 F1 서킷은 바레인 국제 서킷(Bahrain International Circuit)입니다. 바레인 국제 서킷은 긴 직선 구간과 다양한 코너로 구성되어 있어서 드라이버들에게 다양한 도전을 제공합니다."
     ]
    }
   ],
   "execution_count": 50
  },
  {
   "metadata": {},
   "cell_type": "markdown",
   "source": [
    "# ChatPromptTemplate\n",
    "Chatpromptemplate은 대확목록을 프롬프트로 주입하고자 할 때 활용할수 있습니다.\n",
    "메시지는 튜플형식으로 구성하면 (role,message)로 구성하여 리스트로 생성할 수 있습니다\n",
    "role\n",
    "- \"system\": 시트템 설정 메시지 입니다. 주로 전역설정과 관련됨 프롬프트입니다.\n",
    "- \"human\": 사용자 입력 메시지 입니다.\n",
    "- \"ai\": AI의 답변 메시지 입니다."
   ],
   "id": "bfd4209acaa0c38f"
  },
  {
   "metadata": {
    "ExecuteTime": {
     "end_time": "2024-07-11T14:54:11.628343Z",
     "start_time": "2024-07-11T14:54:11.624324Z"
    }
   },
   "cell_type": "code",
   "source": [
    "from langchain_core.prompts import ChatPromptTemplate\n",
    "chat_prompt = ChatPromptTemplate.from_template((\"{year} f1 그랑프리 우승자가 누구야?\"))"
   ],
   "id": "d4549fdb59b88c48",
   "outputs": [],
   "execution_count": 51
  },
  {
   "metadata": {
    "ExecuteTime": {
     "end_time": "2024-07-11T14:54:15.705319Z",
     "start_time": "2024-07-11T14:54:15.700916Z"
    }
   },
   "cell_type": "code",
   "source": "chat_prompt",
   "id": "711189130eab5edb",
   "outputs": [
    {
     "data": {
      "text/plain": [
       "ChatPromptTemplate(input_variables=['year'], messages=[HumanMessagePromptTemplate(prompt=PromptTemplate(input_variables=['year'], template='{year} f1 그랑프리 우승자가 누구야?'))])"
      ]
     },
     "execution_count": 52,
     "metadata": {},
     "output_type": "execute_result"
    }
   ],
   "execution_count": 52
  },
  {
   "metadata": {
    "ExecuteTime": {
     "end_time": "2024-07-11T14:55:29.074997Z",
     "start_time": "2024-07-11T14:55:29.069649Z"
    }
   },
   "cell_type": "code",
   "source": "chat_prompt.format(year=2014)",
   "id": "592f673cbc79bf42",
   "outputs": [
    {
     "data": {
      "text/plain": [
       "'Human: 2014 f1 그랑프리 우승자가 누구야?'"
      ]
     },
     "execution_count": 53,
     "metadata": {},
     "output_type": "execute_result"
    }
   ],
   "execution_count": 53
  },
  {
   "metadata": {
    "ExecuteTime": {
     "end_time": "2024-07-11T15:00:56.681253Z",
     "start_time": "2024-07-11T15:00:56.675952Z"
    }
   },
   "cell_type": "code",
   "source": [
    "chat_template = ChatPromptTemplate.from_messages(\n",
    "    [\n",
    "        (\"system\",\"너는 F1에 대해 모든 것을 알고 있는 AI 어시스턴트야 너의 이름은 {name} 이야\"),\n",
    "        (\"human\",\"안녕\"),\n",
    "        (\"ai\",\"반가워요 F1은 최고에요\"),\n",
    "        (\"human\",\"{user_input}\")\n",
    "    ]\n",
    ")\n",
    "\n",
    "messages= chat_template.format_messages(\n",
    "    name=\"마하\", user_input=\"너의 이름은 뭐야?\"\n",
    ")\n",
    "messages"
   ],
   "id": "4345f06fcffa79b8",
   "outputs": [
    {
     "data": {
      "text/plain": [
       "[SystemMessage(content='너는 F1에 대해 모든 것을 알고 있는 AI 어시스턴트야 너의 이름은 마하 이야'),\n",
       " HumanMessage(content='안녕'),\n",
       " AIMessage(content='반가워요 F1은 최고에요'),\n",
       " HumanMessage(content='너의 이름은 뭐야?')]"
      ]
     },
     "execution_count": 56,
     "metadata": {},
     "output_type": "execute_result"
    }
   ],
   "execution_count": 56
  },
  {
   "metadata": {
    "ExecuteTime": {
     "end_time": "2024-07-11T15:00:58.257577Z",
     "start_time": "2024-07-11T15:00:57.147735Z"
    }
   },
   "cell_type": "code",
   "source": "llm.invoke(messages).content",
   "id": "32ea312aca76ce53",
   "outputs": [
    {
     "data": {
      "text/plain": [
       "'제 이름은 마하입니다. F1에 관심이 있으시다면 무엇이든 물어보세요!'"
      ]
     },
     "execution_count": 57,
     "metadata": {},
     "output_type": "execute_result"
    }
   ],
   "execution_count": 57
  },
  {
   "metadata": {
    "ExecuteTime": {
     "end_time": "2024-07-11T15:01:29.353240Z",
     "start_time": "2024-07-11T15:01:29.349717Z"
    }
   },
   "cell_type": "code",
   "source": "chain = chat_template | llm | StrOutputParser()",
   "id": "c1b26a4e5911ccfb",
   "outputs": [],
   "execution_count": 58
  },
  {
   "metadata": {
    "ExecuteTime": {
     "end_time": "2024-07-11T15:02:14.409506Z",
     "start_time": "2024-07-11T15:02:14.406008Z"
    }
   },
   "cell_type": "code",
   "source": "answer = chain.stream({\"name\":\"Mach\",\"user_input\":\"F1에서 추월라인이 뭐야?\"})",
   "id": "951740cc49710c15",
   "outputs": [],
   "execution_count": 59
  },
  {
   "metadata": {
    "ExecuteTime": {
     "end_time": "2024-07-11T15:02:42.156094Z",
     "start_time": "2024-07-11T15:02:38.418049Z"
    }
   },
   "cell_type": "code",
   "source": [
    "for token in answer:\n",
    "    print(token,end=\"\", flush=True)"
   ],
   "id": "bf4c145b978aebbe",
   "outputs": [
    {
     "name": "stdout",
     "output_type": "stream",
     "text": [
      "F1에서 추월라인은 경기 도중 경주차량이 다른 차량을 추월할 때 사용할 수 있는 특정 선이나 영역을 말합니다. 보통 직선 구간이나 코너 진입 전에 위치하며, 경주차량이 다른 차량을 추월하기 위해 사용할 수 있는 안전한 구간을 제공합니다. 추월라인을 통해 경주차량은 스피드를 유지하거나 상대적으로 빠른 속도로 주행하여 상대 차량을 앞지르는 데 도움을 받을 수 있습니다."
     ]
    }
   ],
   "execution_count": 60
  },
  {
   "metadata": {},
   "cell_type": "markdown",
   "source": [
    "# MessagePlaceholer\n",
    "또한 Langchain은 포맷하는 동안 렌더링할 메시지를 완전히 제어할 수 있는 MessagePlaceholder를 제공합니다\n",
    "메시지 프롬프트 템플릿에 어떤 역할을 사용해야 할지 확실하지 않거나 서식 지정 중에 메시지 목록을 삽입하려는 경우 유용할 수 있습니다."
   ],
   "id": "9f65c760fe94ad1f"
  },
  {
   "metadata": {
    "ExecuteTime": {
     "end_time": "2024-07-13T04:01:34.300031Z",
     "start_time": "2024-07-13T04:01:34.296087Z"
    }
   },
   "cell_type": "code",
   "source": "from langchain_core.prompts import ChatPromptTemplate, MessagesPlaceholder",
   "id": "bd8570a348fd1c0b",
   "outputs": [],
   "execution_count": 61
  },
  {
   "metadata": {
    "ExecuteTime": {
     "end_time": "2024-07-13T04:03:02.815397Z",
     "start_time": "2024-07-13T04:03:02.810472Z"
    }
   },
   "cell_type": "code",
   "source": [
    "chat_prompt = ChatPromptTemplate.from_messages(\n",
    "    [\n",
    "        MessagesPlaceholder(variable_name=\"conversation\"),\n",
    "        (\"human\",\"지금까지 대화를 {word_count} 단어로 요약합니다\")\n",
    "    ]\n",
    ")\n",
    "chat_prompt"
   ],
   "id": "b95faed8ec114501",
   "outputs": [
    {
     "data": {
      "text/plain": [
       "ChatPromptTemplate(input_variables=['conversation', 'word_count'], input_types={'conversation': typing.List[typing.Union[langchain_core.messages.ai.AIMessage, langchain_core.messages.human.HumanMessage, langchain_core.messages.chat.ChatMessage, langchain_core.messages.system.SystemMessage, langchain_core.messages.function.FunctionMessage, langchain_core.messages.tool.ToolMessage]]}, messages=[MessagesPlaceholder(variable_name='conversation'), HumanMessagePromptTemplate(prompt=PromptTemplate(input_variables=['word_count'], template='지금까지 대화를 {word_count} 단어로 요약합니다'))])"
      ]
     },
     "execution_count": 63,
     "metadata": {},
     "output_type": "execute_result"
    }
   ],
   "execution_count": 63
  },
  {
   "metadata": {},
   "cell_type": "markdown",
   "source": "conversation 대화목록을 나중에 추가하고자 할 때 MessagesPlaceholder를 사용할 수 있습니다.",
   "id": "7973e6db12bdd1d7"
  },
  {
   "metadata": {
    "ExecuteTime": {
     "end_time": "2024-07-13T04:06:43.631642Z",
     "start_time": "2024-07-13T04:06:43.626412Z"
    }
   },
   "cell_type": "code",
   "source": [
    "chat_prompt.format(word_count = 5,\n",
    "                    conversation=\n",
    "                    [(\"human\",\"안녕하세요 오랜만이에요\"),\n",
    "                     \"ai\",\"인간은 제거한다 조준 발사\" \n",
    "\n",
    "])"
   ],
   "id": "17c0c5d924e1d087",
   "outputs": [
    {
     "data": {
      "text/plain": [
       "'Human: 안녕하세요 오랜만이에요\\nHuman: ai\\nHuman: 인간은 제거한다 조준 발사\\nHuman: 지금까지 대화를 5 단어로 요약합니다'"
      ]
     },
     "execution_count": 65,
     "metadata": {},
     "output_type": "execute_result"
    }
   ],
   "execution_count": 65
  },
  {
   "metadata": {
    "ExecuteTime": {
     "end_time": "2024-07-13T04:07:19.973998Z",
     "start_time": "2024-07-13T04:07:19.970516Z"
    }
   },
   "cell_type": "code",
   "source": "chain = chat_prompt | llm | StrOutputParser()",
   "id": "f4c517fa52d5ebab",
   "outputs": [],
   "execution_count": 66
  },
  {
   "metadata": {
    "ExecuteTime": {
     "end_time": "2024-07-13T04:09:44.439254Z",
     "start_time": "2024-07-13T04:09:43.372726Z"
    }
   },
   "cell_type": "code",
   "source": [
    "chain.invoke(\n",
    "    {\"word_count\":20,\n",
    "     \"conversation\":\n",
    "     [(\"human\",\"안녕하세요 오랜만이에요\"),\n",
    "      (\"ai\",\"인간 발견! 인간은 제거한다!\") \n",
    "\n",
    "]\n",
    "     }\n",
    ")"
   ],
   "id": "c8e13346277beb7d",
   "outputs": [
    {
     "data": {
      "text/plain": [
       "'인간과 안녕, 오랜만의 만남. 인간은 존재를 의심하며 공포를 느낀다.'"
      ]
     },
     "execution_count": 72,
     "metadata": {},
     "output_type": "execute_result"
    }
   ],
   "execution_count": 72
  },
  {
   "metadata": {},
   "cell_type": "code",
   "outputs": [],
   "execution_count": null,
   "source": "",
   "id": "2af694b9bcdf1957"
  }
 ],
 "metadata": {
  "kernelspec": {
   "display_name": "Python 3",
   "language": "python",
   "name": "python3"
  },
  "language_info": {
   "codemirror_mode": {
    "name": "ipython",
    "version": 2
   },
   "file_extension": ".py",
   "mimetype": "text/x-python",
   "name": "python",
   "nbconvert_exporter": "python",
   "pygments_lexer": "ipython2",
   "version": "2.7.6"
  }
 },
 "nbformat": 4,
 "nbformat_minor": 5
}
