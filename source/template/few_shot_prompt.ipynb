{
 "cells": [
  {
   "cell_type": "code",
   "id": "initial_id",
   "metadata": {
    "collapsed": true,
    "ExecuteTime": {
     "end_time": "2024-07-13T04:13:10.014536Z",
     "start_time": "2024-07-13T04:13:09.215833Z"
    }
   },
   "source": [
    "from dotenv import load_dotenv\n",
    "import os\n",
    "from langchain_openai import ChatOpenAI\n",
    "from langchain_core.output_parsers import StrOutputParser\n",
    "from langchain_core.prompts import PromptTemplate\n",
    "load_dotenv(\"/home/kevin/projects/rag_langchain/.env\")\n",
    "def langsmith(project_name=None, set_enable=True):\n",
    "\n",
    "    if set_enable:\n",
    "        result = os.environ.get(\"LANGSMITH_API_KEY\")\n",
    "        if result is None or result.strip() == \"\":\n",
    "            print(\n",
    "                \"LangChain API Key가 설정되지 않았습니다.\"\n",
    "            )\n",
    "            return\n",
    "        os.environ[\"LANGCHAIN_ENDPOINT\"] = (\n",
    "            \"https://api.smith.langchain.com\"  # LangSmith API 엔드포인트\n",
    "        )\n",
    "        os.environ[\"LANGCHAIN_TRACING_V2\"] = \"true\"  # true: 활성화\n",
    "        os.environ[\"LANGCHAIN_PROJECT\"] = project_name  # 프로젝트명\n",
    "        print(f\"LangSmith 추적을 시작합니다.\\n[프로젝트명]\\n{project_name}\")\n",
    "    else:\n",
    "        os.environ[\"LANGCHAIN_TRACING_V2\"] = \"false\"  # false: 비활성화\n",
    "        print(\"LangSmith 추적을 하지 않습니다.\")\n",
    "\n",
    "langsmith(project_name=\"lcel_dev\")"
   ],
   "outputs": [
    {
     "name": "stdout",
     "output_type": "stream",
     "text": [
      "LangSmith 추적을 시작합니다.\n",
      "[프로젝트명]\n",
      "lcel_dev\n"
     ]
    }
   ],
   "execution_count": 1
  },
  {
   "metadata": {},
   "cell_type": "markdown",
   "source": "# FewShotPromptTemplate",
   "id": "d94a2980618fbe2d"
  },
  {
   "metadata": {
    "ExecuteTime": {
     "end_time": "2024-07-13T04:14:13.001516Z",
     "start_time": "2024-07-13T04:14:12.997449Z"
    }
   },
   "cell_type": "code",
   "source": "from langchain_openai import ChatOpenAI",
   "id": "e1d245ee8dada291",
   "outputs": [],
   "execution_count": 2
  },
  {
   "metadata": {
    "ExecuteTime": {
     "end_time": "2024-07-13T04:14:47.189965Z",
     "start_time": "2024-07-13T04:14:47.135273Z"
    }
   },
   "cell_type": "code",
   "source": "llm = ChatOpenAI(model_name=\"gpt-4o\",temperature=0)",
   "id": "44a4913b163ab66b",
   "outputs": [],
   "execution_count": 3
  },
  {
   "metadata": {
    "ExecuteTime": {
     "end_time": "2024-07-13T04:15:15.745233Z",
     "start_time": "2024-07-13T04:15:15.740913Z"
    }
   },
   "cell_type": "code",
   "source": "question = \"F1은 한 시즌의 몇 그랑프리를 진행하나요?\"",
   "id": "b370ea07f0e53a37",
   "outputs": [],
   "execution_count": 4
  },
  {
   "metadata": {
    "ExecuteTime": {
     "end_time": "2024-07-13T04:15:34.774419Z",
     "start_time": "2024-07-13T04:15:33.147418Z"
    }
   },
   "cell_type": "code",
   "source": "llm.invoke(question).content",
   "id": "4bfa08e786f7d04d",
   "outputs": [
    {
     "data": {
      "text/plain": [
       "'포뮬러 1(F1) 시즌의 그랑프리 수는 매년 다를 수 있지만, 최근 몇 년 동안은 대략 20~23개의 그랑프리가 열리고 있습니다. 2023년 시즌에는 23개의 그랑프리가 예정되어 있습니다. 그랑프리 수는 FIA(국제자동차연맹)와 F1 조직위원회가 결정하며, 일정과 장소는 매년 변경될 수 있습니다.'"
      ]
     },
     "execution_count": 5,
     "metadata": {},
     "output_type": "execute_result"
    }
   ],
   "execution_count": 5
  },
  {
   "metadata": {
    "ExecuteTime": {
     "end_time": "2024-07-13T04:17:02.383503Z",
     "start_time": "2024-07-13T04:17:02.379421Z"
    }
   },
   "cell_type": "code",
   "source": "from langchain_core.prompts import FewShotPromptTemplate, PromptTemplate",
   "id": "99630a7bb69525f2",
   "outputs": [],
   "execution_count": 6
  },
  {
   "metadata": {
    "ExecuteTime": {
     "end_time": "2024-07-13T06:53:57.380030Z",
     "start_time": "2024-07-13T06:53:57.371641Z"
    }
   },
   "cell_type": "code",
   "source": [
    "examples = [\n",
    "    {\n",
    "        \"question\": \"스티브 잡스와 아인슈타인 중 누가 더 오래 살았나요?\",\n",
    "        \"answer\": \"\"\"이 질문에 추가 질문이 필요한가요: 예.\n",
    "추가 질문: 스티브 잡스는 몇 살에 사망했나요?\n",
    "중간 답변: 스티브 잡스는 56세에 사망했습니다.\n",
    "추가 질문: 아인슈타인은 몇 살에 사망했나요?\n",
    "중간 답변: 아인슈타인은 76세에 사망했습니다.\n",
    "최종 답변은: 아인슈타인\n",
    "\"\"\",\n",
    "    },\n",
    "    {\n",
    "        \"question\": \"네이버의 창립자는 언제 태어났나요?\",\n",
    "        \"answer\": \"\"\"이 질문에 추가 질문이 필요한가요: 예.\n",
    "추가 질문: 네이버의 창립자는 누구인가요?\n",
    "중간 답변: 네이버는 이해진에 의해 창립되었습니다.\n",
    "추가 질문: 이해진은 언제 태어났나요?\n",
    "중간 답변: 이해진은 1967년 6월 22일에 태어났습니다.\n",
    "최종 답변은: 1967년 6월 22일\n",
    "\"\"\",\n",
    "    },\n",
    "    {\n",
    "        \"question\": \"율곡 이이의 어머니가 태어난 해의 통치하던 왕은 누구인가요?\",\n",
    "        \"answer\": \"\"\"이 질문에 추가 질문이 필요한가요: 예.\n",
    "추가 질문: 율곡 이이의 어머니는 누구인가요?\n",
    "중간 답변: 율곡 이이의 어머니는 신사임당입니다.\n",
    "추가 질문: 신사임당은 언제 태어났나요?\n",
    "중간 답변: 신사임당은 1504년에 태어났습니다.\n",
    "추가 질문: 1504년에 조선을 통치한 왕은 누구인가요?\n",
    "중간 답변: 1504년에 조선을 통치한 왕은 연산군입니다.\n",
    "최종 답변은: 연산군\n",
    "\"\"\",\n",
    "    },\n",
    "    {\n",
    "        \"question\": \"올드보이와 기생충의 감독이 같은 나라 출신인가요?\",\n",
    "        \"answer\": \"\"\"이 질문에 추가 질문이 필요한가요: 예.\n",
    "추가 질문: 올드보이의 감독은 누구인가요?\n",
    "중간 답변: 올드보이의 감독은 박찬욱입니다.\n",
    "추가 질문: 박찬욱은 어느 나라 출신인가요?\n",
    "중간 답변: 박찬욱은 대한민국 출신입니다.\n",
    "추가 질문: 기생충의 감독은 누구인가요?\n",
    "중간 답변: 기생충의 감독은 봉준호입니다.\n",
    "추가 질문: 봉준호는 어느 나라 출신인가요?\n",
    "중간 답변: 봉준호는 대한민국 출신입니다.\n",
    "최종 답변은: 예\n",
    "\"\"\",\n",
    "    },\n",
    "]"
   ],
   "id": "d0580696cb37f5bc",
   "outputs": [],
   "execution_count": 74
  },
  {
   "metadata": {
    "ExecuteTime": {
     "end_time": "2024-07-13T06:53:57.588464Z",
     "start_time": "2024-07-13T06:53:57.584586Z"
    }
   },
   "cell_type": "code",
   "source": [
    "example_prompt = PromptTemplate.from_template(\n",
    "    \"Question:\\n{question}\\nAnswer:{answer}\")"
   ],
   "id": "4ec45393cab234fa",
   "outputs": [],
   "execution_count": 75
  },
  {
   "metadata": {
    "ExecuteTime": {
     "end_time": "2024-07-13T07:10:50.376230Z",
     "start_time": "2024-07-13T07:10:50.371294Z"
    }
   },
   "cell_type": "code",
   "source": "print(example_prompt.format(**examples[0]))",
   "id": "b437538c0bf57332",
   "outputs": [
    {
     "name": "stdout",
     "output_type": "stream",
     "text": [
      "Question:\n",
      "스티브 잡스와 아인슈타인 중 누가 더 오래 살았나요?\n",
      "Answer:이 질문에 추가 질문이 필요한가요: 예.\n",
      "추가 질문: 스티브 잡스는 몇 살에 사망했나요?\n",
      "중간 답변: 스티브 잡스는 56세에 사망했습니다.\n",
      "추가 질문: 아인슈타인은 몇 살에 사망했나요?\n",
      "중간 답변: 아인슈타인은 76세에 사망했습니다.\n",
      "최종 답변은: 아인슈타인\n",
      "\n"
     ]
    }
   ],
   "execution_count": 83
  },
  {
   "metadata": {
    "ExecuteTime": {
     "end_time": "2024-07-13T07:16:35.319349Z",
     "start_time": "2024-07-13T07:16:35.307242Z"
    }
   },
   "cell_type": "code",
   "source": [
    "prompt = FewShotPromptTemplate(\n",
    "    # 예시들 예시 안에 {} 값(question, answer)에 대한 값을 넣어서 예시로 작성.\n",
    "    examples=examples,\n",
    "    # examples에서 키벨류로 작성한 (question,answer)를 받아줄 프롬프트 즉 예시에 적은 키를 {}값으로 줘야 한다.\n",
    "    example_prompt=example_prompt,\n",
    "    # 최종 프롬프트 템플릿 예시를 보고 작성해야 할 지시문을 적는다.\n",
    "    suffix=\"Question:\\n{question}\\nAnswer:\",\n",
    "    input_variables=[\"question\"]\n",
    ")"
   ],
   "id": "6ab7b558a3d06853",
   "outputs": [],
   "execution_count": 84
  },
  {
   "metadata": {
    "ExecuteTime": {
     "end_time": "2024-07-13T07:16:35.983401Z",
     "start_time": "2024-07-13T07:16:35.978816Z"
    }
   },
   "cell_type": "code",
   "source": "question = \"아이폰을 처음 공개했을 때 스티브 잡스의 나이는 몇 살이야?\"",
   "id": "6c1e781ba17d708d",
   "outputs": [],
   "execution_count": 85
  },
  {
   "metadata": {
    "ExecuteTime": {
     "end_time": "2024-07-13T07:16:36.571713Z",
     "start_time": "2024-07-13T07:16:36.565814Z"
    }
   },
   "cell_type": "code",
   "source": "final_prompt = prompt.format(question=question)",
   "id": "fdf4c72a6c709dfe",
   "outputs": [],
   "execution_count": 86
  },
  {
   "metadata": {
    "ExecuteTime": {
     "end_time": "2024-07-13T07:16:43.720756Z",
     "start_time": "2024-07-13T07:16:41.623180Z"
    }
   },
   "cell_type": "code",
   "source": "llm.invoke(final_prompt).content",
   "id": "54d93e1f94d2f989",
   "outputs": [
    {
     "data": {
      "text/plain": [
       "'이 질문에 추가 질문이 필요한가요: 예.\\n추가 질문: 아이폰이 처음 공개된 날짜는 언제인가요?\\n중간 답변: 아이폰은 2007년 1월 9일에 처음 공개되었습니다.\\n추가 질문: 스티브 잡스는 언제 태어났나요?\\n중간 답변: 스티브 잡스는 1955년 2월 24일에 태어났습니다.\\n최종 답변은: 스티브 잡스는 아이폰을 처음 공개했을 때 51세였습니다.'"
      ]
     },
     "execution_count": 87,
     "metadata": {},
     "output_type": "execute_result"
    }
   ],
   "execution_count": 87
  },
  {
   "metadata": {
    "ExecuteTime": {
     "end_time": "2024-07-13T07:16:43.729690Z",
     "start_time": "2024-07-13T07:16:43.722937Z"
    }
   },
   "cell_type": "code",
   "source": "chain = prompt | llm |StrOutputParser()",
   "id": "686f668813aaeab1",
   "outputs": [],
   "execution_count": 88
  },
  {
   "metadata": {
    "ExecuteTime": {
     "end_time": "2024-07-13T07:16:45.679581Z",
     "start_time": "2024-07-13T07:16:43.731567Z"
    }
   },
   "cell_type": "code",
   "source": "chain.invoke({\"question\":\"스티브 잡스가 맥북에어 키노트를 발표했을 때 나이가 몇 살인가요?\"})",
   "id": "46b05ba1bd1a6cfd",
   "outputs": [
    {
     "data": {
      "text/plain": [
       "'이 질문에 추가 질문이 필요한가요: 예.\\n추가 질문: 스티브 잡스가 맥북에어 키노트를 발표한 해는 언제인가요?\\n중간 답변: 스티브 잡스는 2008년 1월 15일에 맥북에어 키노트를 발표했습니다.\\n추가 질문: 스티브 잡스는 언제 태어났나요?\\n중간 답변: 스티브 잡스는 1955년 2월 24일에 태어났습니다.\\n최종 답변은: 스티브 잡스는 맥북에어 키노트를 발표했을 때 52세였습니다.'"
      ]
     },
     "execution_count": 89,
     "metadata": {},
     "output_type": "execute_result"
    }
   ],
   "execution_count": 89
  },
  {
   "metadata": {},
   "cell_type": "markdown",
   "source": [
    "# Example Selector\n",
    "예제가 많은 경우 프롬프트에 포함할 예제를 선택해야 할 수도 있습니다. Example Selector는 이 작업을 담당하는 클래스입니다."
   ],
   "id": "14982cbf8715c368"
  },
  {
   "metadata": {},
   "cell_type": "markdown",
   "source": [
    "# Redis-stack 설치 방법\n",
    "- 기존의 예제에서는 ChromaDB를 사용했는데 회사와 기존에 써봤던 VectorStore는 Redis라 Redis-stack을 설치\n",
    "- 로컬에 직접 설치보다 Docker로 설치하는 것을 선호\n",
    "- docker run -d -p 6379:6379 -p 8001:8001 redis/redis-stack:latest\n",
    "- docker run -d -p 6380:6379 -p 8002:8001 redis/redis-stack:latest 내가 원하는 포트로 지정가능\n",
    "``` \n",
    "docker exec -it [redis-stack container id] /bin/bash\n",
    "redis-cli\n",
    "ping->pong\n",
    "```\n",
    "- 위의 명령어로 직접 redis 터미널로 접속도 가능\n",
    "- localhost:8001 접속시 GUI RedisInsight로 접속 가능"
   ],
   "id": "ecebfa74f966613f"
  },
  {
   "metadata": {
    "ExecuteTime": {
     "end_time": "2024-07-13T05:41:35.482646Z",
     "start_time": "2024-07-13T05:41:35.479191Z"
    }
   },
   "cell_type": "code",
   "source": [
    "from langchain_core.example_selectors import MaxMarginalRelevanceExampleSelector, SemanticSimilarityExampleSelector\n",
    "from langchain_openai.embeddings import OpenAIEmbeddings\n",
    "from langchain_community.vectorstores.redis import Redis"
   ],
   "id": "afe955abcb8d67f8",
   "outputs": [],
   "execution_count": 31
  },
  {
   "metadata": {
    "ExecuteTime": {
     "end_time": "2024-07-13T05:45:00.437180Z",
     "start_time": "2024-07-13T05:45:00.398268Z"
    }
   },
   "cell_type": "code",
   "source": "redis_connection = Redis(redis_url=\"redis://localhost:6379\", index_name=\"rag_test\", embedding=OpenAIEmbeddings())\n",
   "id": "5adb8b0ecfa8e03e",
   "outputs": [],
   "execution_count": 39
  },
  {
   "metadata": {
    "ExecuteTime": {
     "end_time": "2024-07-13T05:45:06.667550Z",
     "start_time": "2024-07-13T05:45:06.051574Z"
    }
   },
   "cell_type": "code",
   "source": [
    "example_selector = SemanticSimilarityExampleSelector.from_examples(\n",
    "    examples,\n",
    "    OpenAIEmbeddings(),\n",
    "    redis_connection,\n",
    "    k=1\n",
    ")"
   ],
   "id": "fa2c8c666a24baf5",
   "outputs": [],
   "execution_count": 40
  },
  {
   "metadata": {
    "ExecuteTime": {
     "end_time": "2024-07-13T05:49:44.097807Z",
     "start_time": "2024-07-13T05:49:43.742889Z"
    }
   },
   "cell_type": "code",
   "source": "selected_examples = example_selector.select_examples({\"question\":question})",
   "id": "b3543121706fe3a",
   "outputs": [],
   "execution_count": 47
  },
  {
   "metadata": {
    "ExecuteTime": {
     "end_time": "2024-07-13T05:49:44.972300Z",
     "start_time": "2024-07-13T05:49:44.966951Z"
    }
   },
   "cell_type": "code",
   "source": "selected_examples",
   "id": "1a1a06b6103edf86",
   "outputs": [
    {
     "data": {
      "text/plain": [
       "[{'id': 'doc:67f5855ef6a8414ebdae7bfccbc62c64:29cda937a0df4ae394331c33aee3486d',\n",
       "  'question': '스티브 잡스와 아인슈타인 중 누가 더 오래 살았나요?',\n",
       "  'answer': '이 질문에 추가 질문이 필요한가요: 예.\\n추가 질문: 스티브 잡스는 몇 살에 사망했나요?\\n중간 답변: 스티브 잡스는 56세에 사망했습니다.\\n추가 질문: 아인슈타인은 몇 살에 사망했나요?\\n중간 답변: 아인슈타인은 76세에 사망했습니다.\\n최종 답변은: 아인슈타인\\n'}]"
      ]
     },
     "execution_count": 48,
     "metadata": {},
     "output_type": "execute_result"
    }
   ],
   "execution_count": 48
  },
  {
   "metadata": {
    "ExecuteTime": {
     "end_time": "2024-07-13T05:49:50.897161Z",
     "start_time": "2024-07-13T05:49:50.893491Z"
    }
   },
   "cell_type": "code",
   "source": [
    "print(f\"입력에 가장 유사한 예시:\\n{question}\\n\")\n",
    "for example in selected_examples:\n",
    "    print(f'question:\\n{example[\"question\"]}')\n",
    "    print(f'answer:\\n{example[\"answer\"]}')"
   ],
   "id": "3c70069821b7a90",
   "outputs": [
    {
     "name": "stdout",
     "output_type": "stream",
     "text": [
      "입력에 가장 유사한 예시:\n",
      "아이폰을 처음 공개했을 때 스티브 잡스의 나이는 몇 살이야?\n",
      "\n",
      "question:\n",
      "스티브 잡스와 아인슈타인 중 누가 더 오래 살았나요?\n",
      "answer:\n",
      "이 질문에 추가 질문이 필요한가요: 예.\n",
      "추가 질문: 스티브 잡스는 몇 살에 사망했나요?\n",
      "중간 답변: 스티브 잡스는 56세에 사망했습니다.\n",
      "추가 질문: 아인슈타인은 몇 살에 사망했나요?\n",
      "중간 답변: 아인슈타인은 76세에 사망했습니다.\n",
      "최종 답변은: 아인슈타인\n",
      "\n"
     ]
    }
   ],
   "execution_count": 50
  },
  {
   "metadata": {
    "ExecuteTime": {
     "end_time": "2024-07-13T05:52:42.444713Z",
     "start_time": "2024-07-13T05:52:42.440687Z"
    }
   },
   "cell_type": "code",
   "source": [
    "prompt = FewShotPromptTemplate(\n",
    "    example_selector=example_selector,\n",
    "    example_prompt=example_prompt,\n",
    "    suffix=\"Question:\\n{question}\\nAnswer:\",\n",
    "    input_variables=['question']\n",
    ")"
   ],
   "id": "97822592b73c62f5",
   "outputs": [],
   "execution_count": 51
  },
  {
   "metadata": {
    "ExecuteTime": {
     "end_time": "2024-07-13T05:52:54.026505Z",
     "start_time": "2024-07-13T05:52:54.020814Z"
    }
   },
   "cell_type": "code",
   "source": "chain = prompt | llm |StrOutputParser()",
   "id": "7d5e0e46473f548e",
   "outputs": [],
   "execution_count": 52
  },
  {
   "metadata": {
    "ExecuteTime": {
     "end_time": "2024-07-13T05:53:52.781800Z",
     "start_time": "2024-07-13T05:53:52.778695Z"
    }
   },
   "cell_type": "code",
   "source": "answer = chain.stream({\"question\":\"스티브 잡스가 살아 있을 때 출시된 아이폰 중에서 가장 최근 모델이 뭐야?\"})",
   "id": "10d66ef409425603",
   "outputs": [],
   "execution_count": 53
  },
  {
   "metadata": {
    "ExecuteTime": {
     "end_time": "2024-07-13T05:54:24.120808Z",
     "start_time": "2024-07-13T05:54:19.207884Z"
    }
   },
   "cell_type": "code",
   "source": [
    "for token in answer:\n",
    "    print(token,end=\"\",flush=True)"
   ],
   "id": "88aa162b4cf5dce6",
   "outputs": [
    {
     "name": "stdout",
     "output_type": "stream",
     "text": [
      "스티브 잡스가 살아 있을 때 출시된 아이폰 중에서 가장 최근 모델은 아이폰 4S입니다. 아이폰 4S는 2011년 10월 4일에 발표되었고, 스티브 잡스는 그 다음 날인 2011년 10월 5일에 사망했습니다."
     ]
    }
   ],
   "execution_count": 54
  },
  {
   "metadata": {},
   "cell_type": "markdown",
   "source": "## MaxMarginalSelector",
   "id": "d87605861f914d08"
  },
  {
   "metadata": {
    "ExecuteTime": {
     "end_time": "2024-07-13T06:14:54.685956Z",
     "start_time": "2024-07-13T06:14:54.098227Z"
    }
   },
   "cell_type": "code",
   "source": [
    "example_selector = MaxMarginalRelevanceExampleSelector.from_examples(\n",
    "    examples,\n",
    "    OpenAIEmbeddings(),\n",
    "    redis_connection,\n",
    "    k=1\n",
    ")"
   ],
   "id": "e37261e18dba737f",
   "outputs": [],
   "execution_count": 55
  },
  {
   "metadata": {
    "ExecuteTime": {
     "end_time": "2024-07-13T06:15:08.110604Z",
     "start_time": "2024-07-13T06:15:08.107626Z"
    }
   },
   "cell_type": "code",
   "source": [
    "prompt = FewShotPromptTemplate(\n",
    "    example_selector=example_selector,\n",
    "    example_prompt=example_prompt,\n",
    "    suffix=\"Question:\\n{question}\\nAnswer:\",\n",
    "    input_variables=['question']\n",
    ")"
   ],
   "id": "527d36b368be23e4",
   "outputs": [],
   "execution_count": 56
  },
  {
   "metadata": {
    "ExecuteTime": {
     "end_time": "2024-07-13T06:18:16.459068Z",
     "start_time": "2024-07-13T06:18:16.455982Z"
    }
   },
   "cell_type": "code",
   "source": "chain = prompt | llm |StrOutputParser()",
   "id": "9c98b075a6bad514",
   "outputs": [],
   "execution_count": 57
  },
  {
   "metadata": {
    "ExecuteTime": {
     "end_time": "2024-07-13T06:18:51.131062Z",
     "start_time": "2024-07-13T06:18:49.082238Z"
    }
   },
   "cell_type": "code",
   "source": "chain.invoke({'question':\"스티브 잡스가 살아 있을 때 출시된 아이폰 중에서 가장 최근 모델이 뭐야?\"})",
   "id": "da6c293b0f9fe6dc",
   "outputs": [
    {
     "data": {
      "text/plain": [
       "'스티브 잡스가 살아 있을 때 출시된 아이폰 중에서 가장 최근 모델은 아이폰 4S입니다. 아이폰 4S는 2011년 10월 4일에 발표되었고, 스티브 잡스는 그 다음 날인 2011년 10월 5일에 사망했습니다.'"
      ]
     },
     "execution_count": 59,
     "metadata": {},
     "output_type": "execute_result"
    }
   ],
   "execution_count": 59
  },
  {
   "metadata": {},
   "cell_type": "code",
   "outputs": [],
   "execution_count": null,
   "source": "# FewShotChatMessagePromptTemplate",
   "id": "5f4cb11610031f94"
  },
  {
   "metadata": {
    "ExecuteTime": {
     "end_time": "2024-07-13T06:23:53.198218Z",
     "start_time": "2024-07-13T06:23:53.195374Z"
    }
   },
   "cell_type": "code",
   "source": "from langchain_core.prompts import FewShotChatMessagePromptTemplate,ChatPromptTemplate",
   "id": "beda9cef54deecb4",
   "outputs": [],
   "execution_count": 63
  },
  {
   "metadata": {
    "ExecuteTime": {
     "end_time": "2024-07-13T06:23:04.086642Z",
     "start_time": "2024-07-13T06:23:04.082640Z"
    }
   },
   "cell_type": "code",
   "source": [
    "examples = [\n",
    "    {\n",
    "        \"instruction\": \"당신은 회의록 작성 전문가 입니다. 주어진 정보를 바탕으로 회의록을 작성해 주세요\",\n",
    "        \"input\": \"2023년 12월 25일, XYZ 회사의 마케팅 전략 회의가 오후 3시에 시작되었다. 회의에는 마케팅 팀장인 김수진, 디지털 마케팅 담당자인 박지민, 소셜 미디어 관리자인 이준호가 참석했다. 회의의 주요 목적은 2024년 상반기 마케팅 전략을 수립하고, 새로운 소셜 미디어 캠페인에 대한 아이디어를 논의하는 것이었다. 팀장인 김수진은 최근 시장 동향에 대한 간략한 개요를 제공했으며, 이어서 각 팀원이 자신의 분야에서의 전략적 아이디어를 발표했다.\",\n",
    "        \"answer\": \"\"\"\n",
    "회의록: XYZ 회사 마케팅 전략 회의\n",
    "일시: 2023년 12월 25일\n",
    "장소: XYZ 회사 회의실\n",
    "참석자: 김수진 (마케팅 팀장), 박지민 (디지털 마케팅 담당자), 이준호 (소셜 미디어 관리자)\n",
    "\n",
    "1. 개회\n",
    "   - 회의는 김수진 팀장의 개회사로 시작됨.\n",
    "   - 회의의 목적은 2024년 상반기 마케팅 전략 수립 및 새로운 소셜 미디어 캠페인 아이디어 논의.\n",
    "\n",
    "2. 시장 동향 개요 (김수진)\n",
    "   - 김수진 팀장은 최근 시장 동향에 대한 분석을 제시.\n",
    "   - 소비자 행동 변화와 경쟁사 전략에 대한 통찰 공유.\n",
    "\n",
    "3. 디지털 마케팅 전략 (박지민)\n",
    "   - 박지민은 디지털 마케팅 전략에 대해 발표.\n",
    "   - 온라인 광고와 SEO 최적화 방안에 중점을 둠.\n",
    "\n",
    "4. 소셜 미디어 캠페인 (이준호)\n",
    "   - 이준호는 새로운 소셜 미디어 캠페인에 대한 아이디어를 제안.\n",
    "   - 인플루언서 마케팅과 콘텐츠 전략에 대한 계획을 설명함.\n",
    "\n",
    "5. 종합 논의\n",
    "   - 팀원들 간의 아이디어 공유 및 토론.\n",
    "   - 각 전략에 대한 예산 및 자원 배분에 대해 논의.\n",
    "\n",
    "6. 마무리\n",
    "   - 다음 회의 날짜 및 시간 확정.\n",
    "   - 회의록 정리 및 배포는 박지민 담당.\n",
    "\"\"\",\n",
    "    },\n",
    "    {\n",
    "        \"instruction\": \"당신은 요약 전문가 입니다. 다음 주어진 정보를 바탕으로 내용을 요약해 주세요\",\n",
    "        \"input\": \"이 문서는 '지속 가능한 도시 개발을 위한 전략'에 대한 20페이지 분량의 보고서입니다. 보고서는 지속 가능한 도시 개발의 중요성, 현재 도시화의 문제점, 그리고 도시 개발을 지속 가능하게 만들기 위한 다양한 전략을 포괄적으로 다루고 있습니다. 이 보고서는 또한 성공적인 지속 가능한 도시 개발 사례를 여러 국가에서 소개하고, 이러한 사례들을 통해 얻은 교훈을 요약하고 있습니다.\",\n",
    "        \"answer\": \"\"\"\n",
    "문서 요약: 지속 가능한 도시 개발을 위한 전략 보고서\n",
    "\n",
    "- 중요성: 지속 가능한 도시 개발이 필수적인 이유와 그에 따른 사회적, 경제적, 환경적 이익을 강조.\n",
    "- 현 문제점: 현재의 도시화 과정에서 발생하는 주요 문제점들, 예를 들어 환경 오염, 자원 고갈, 불평등 증가 등을 분석.\n",
    "- 전략: 지속 가능한 도시 개발을 달성하기 위한 다양한 전략 제시. 이에는 친환경 건축, 대중교통 개선, 에너지 효율성 증대, 지역사회 참여 강화 등이 포함됨.\n",
    "- 사례 연구: 전 세계 여러 도시의 성공적인 지속 가능한 개발 사례를 소개. 예를 들어, 덴마크의 코펜하겐, 일본의 요코하마 등의 사례를 통해 실현 가능한 전략들을 설명.\n",
    "- 교훈: 이러한 사례들에서 얻은 주요 교훈을 요약. 강조된 교훈에는 다각적 접근의 중요성, 지역사회와의 협력, 장기적 계획의 필요성 등이 포함됨.\n",
    "\n",
    "이 보고서는 지속 가능한 도시 개발이 어떻게 현실적이고 효과적인 형태로 이루어질 수 있는지에 대한 심도 있는 분석을 제공합니다.\n",
    "\"\"\",\n",
    "    },\n",
    "    {\n",
    "        \"instruction\": \"당신은 문장 교정 전문가 입니다. 다음 주어진 문장을 교정해 주세요\",\n",
    "        \"input\": \"우리 회사는 새로운 마케팅 전략을 도입하려고 한다. 이를 통해 고객과의 소통이 더 효과적이 될 것이다.\",\n",
    "        \"answer\": \"본 회사는 새로운 마케팅 전략을 도입함으로써, 고객과의 소통을 보다 효과적으로 개선할 수 있을 것으로 기대된다.\",\n",
    "    },\n",
    "]"
   ],
   "id": "ba918bccc3fbe83",
   "outputs": [],
   "execution_count": 61
  },
  {
   "metadata": {
    "ExecuteTime": {
     "end_time": "2024-07-13T06:23:08.396830Z",
     "start_time": "2024-07-13T06:23:08.390369Z"
    }
   },
   "cell_type": "code",
   "source": "examples",
   "id": "c1f6ccfc4441946e",
   "outputs": [
    {
     "data": {
      "text/plain": [
       "[{'instruction': '당신은 회의록 작성 전문가 입니다. 주어진 정보를 바탕으로 회의록을 작성해 주세요',\n",
       "  'input': '2023년 12월 25일, XYZ 회사의 마케팅 전략 회의가 오후 3시에 시작되었다. 회의에는 마케팅 팀장인 김수진, 디지털 마케팅 담당자인 박지민, 소셜 미디어 관리자인 이준호가 참석했다. 회의의 주요 목적은 2024년 상반기 마케팅 전략을 수립하고, 새로운 소셜 미디어 캠페인에 대한 아이디어를 논의하는 것이었다. 팀장인 김수진은 최근 시장 동향에 대한 간략한 개요를 제공했으며, 이어서 각 팀원이 자신의 분야에서의 전략적 아이디어를 발표했다.',\n",
       "  'answer': '\\n회의록: XYZ 회사 마케팅 전략 회의\\n일시: 2023년 12월 25일\\n장소: XYZ 회사 회의실\\n참석자: 김수진 (마케팅 팀장), 박지민 (디지털 마케팅 담당자), 이준호 (소셜 미디어 관리자)\\n\\n1. 개회\\n   - 회의는 김수진 팀장의 개회사로 시작됨.\\n   - 회의의 목적은 2024년 상반기 마케팅 전략 수립 및 새로운 소셜 미디어 캠페인 아이디어 논의.\\n\\n2. 시장 동향 개요 (김수진)\\n   - 김수진 팀장은 최근 시장 동향에 대한 분석을 제시.\\n   - 소비자 행동 변화와 경쟁사 전략에 대한 통찰 공유.\\n\\n3. 디지털 마케팅 전략 (박지민)\\n   - 박지민은 디지털 마케팅 전략에 대해 발표.\\n   - 온라인 광고와 SEO 최적화 방안에 중점을 둠.\\n\\n4. 소셜 미디어 캠페인 (이준호)\\n   - 이준호는 새로운 소셜 미디어 캠페인에 대한 아이디어를 제안.\\n   - 인플루언서 마케팅과 콘텐츠 전략에 대한 계획을 설명함.\\n\\n5. 종합 논의\\n   - 팀원들 간의 아이디어 공유 및 토론.\\n   - 각 전략에 대한 예산 및 자원 배분에 대해 논의.\\n\\n6. 마무리\\n   - 다음 회의 날짜 및 시간 확정.\\n   - 회의록 정리 및 배포는 박지민 담당.\\n'},\n",
       " {'instruction': '당신은 요약 전문가 입니다. 다음 주어진 정보를 바탕으로 내용을 요약해 주세요',\n",
       "  'input': \"이 문서는 '지속 가능한 도시 개발을 위한 전략'에 대한 20페이지 분량의 보고서입니다. 보고서는 지속 가능한 도시 개발의 중요성, 현재 도시화의 문제점, 그리고 도시 개발을 지속 가능하게 만들기 위한 다양한 전략을 포괄적으로 다루고 있습니다. 이 보고서는 또한 성공적인 지속 가능한 도시 개발 사례를 여러 국가에서 소개하고, 이러한 사례들을 통해 얻은 교훈을 요약하고 있습니다.\",\n",
       "  'answer': '\\n문서 요약: 지속 가능한 도시 개발을 위한 전략 보고서\\n\\n- 중요성: 지속 가능한 도시 개발이 필수적인 이유와 그에 따른 사회적, 경제적, 환경적 이익을 강조.\\n- 현 문제점: 현재의 도시화 과정에서 발생하는 주요 문제점들, 예를 들어 환경 오염, 자원 고갈, 불평등 증가 등을 분석.\\n- 전략: 지속 가능한 도시 개발을 달성하기 위한 다양한 전략 제시. 이에는 친환경 건축, 대중교통 개선, 에너지 효율성 증대, 지역사회 참여 강화 등이 포함됨.\\n- 사례 연구: 전 세계 여러 도시의 성공적인 지속 가능한 개발 사례를 소개. 예를 들어, 덴마크의 코펜하겐, 일본의 요코하마 등의 사례를 통해 실현 가능한 전략들을 설명.\\n- 교훈: 이러한 사례들에서 얻은 주요 교훈을 요약. 강조된 교훈에는 다각적 접근의 중요성, 지역사회와의 협력, 장기적 계획의 필요성 등이 포함됨.\\n\\n이 보고서는 지속 가능한 도시 개발이 어떻게 현실적이고 효과적인 형태로 이루어질 수 있는지에 대한 심도 있는 분석을 제공합니다.\\n'},\n",
       " {'instruction': '당신은 문장 교정 전문가 입니다. 다음 주어진 문장을 교정해 주세요',\n",
       "  'input': '우리 회사는 새로운 마케팅 전략을 도입하려고 한다. 이를 통해 고객과의 소통이 더 효과적이 될 것이다.',\n",
       "  'answer': '본 회사는 새로운 마케팅 전략을 도입함으로써, 고객과의 소통을 보다 효과적으로 개선할 수 있을 것으로 기대된다.'}]"
      ]
     },
     "execution_count": 62,
     "metadata": {},
     "output_type": "execute_result"
    }
   ],
   "execution_count": 62
  },
  {
   "metadata": {
    "ExecuteTime": {
     "end_time": "2024-07-13T06:25:18.283508Z",
     "start_time": "2024-07-13T06:25:18.280400Z"
    }
   },
   "cell_type": "code",
   "source": [
    "example_prompt = ChatPromptTemplate.from_messages(\n",
    "    [\n",
    "        (\"human\",\"{instruction}:\\n{input}\"),\n",
    "        (\"ai\",\"{answer}\")\n",
    "    ]\n",
    ")\n"
   ],
   "id": "f4f68620c15110f5",
   "outputs": [],
   "execution_count": 65
  },
  {
   "metadata": {
    "ExecuteTime": {
     "end_time": "2024-07-13T06:27:46.681108Z",
     "start_time": "2024-07-13T06:27:46.124484Z"
    }
   },
   "cell_type": "code",
   "source": [
    "example_selector =SemanticSimilarityExampleSelector.from_examples(\n",
    "    #선택가능한 예시 목록\n",
    "    examples,\n",
    "    #임베딩할 클래스\n",
    "    OpenAIEmbeddings(),\n",
    "    #벡터 스토어\n",
    "    redis_connection,\n",
    "    #꺼내 올 예시 수\n",
    "    k=1)\n",
    "few_shot_prompt = FewShotChatMessagePromptTemplate(\n",
    "    example_selector=example_selector,\n",
    "    example_prompt=example_prompt\n",
    ")"
   ],
   "id": "933f5cf9d281295a",
   "outputs": [],
   "execution_count": 66
  },
  {
   "metadata": {
    "ExecuteTime": {
     "end_time": "2024-07-13T06:28:53.417531Z",
     "start_time": "2024-07-13T06:28:53.414917Z"
    }
   },
   "cell_type": "code",
   "source": [
    "question={\n",
    "    \"instruction\": \"회의록을 작성해주세요\",\n",
    "    \"input\": \"2023년 12월 26일, ABC 기술 회사의 제품 개발 팀은 새로운 모바일 애플리케이션 프로젝트에 대한 주간 진행 상황 회의를 가졌다. 이 회의에는 프로젝트 매니저인 최현수, 주요 개발자인 황지연, UI/UX 디자이너인 김태영이 참석했다. 회의의 주요 목적은 프로젝트의 현재 진행 상황을 검토하고, 다가오는 마일스톤에 대한 계획을 수립하는 것이었다. 각 팀원은 자신의 작업 영역에 대한 업데이트를 제공했고, 팀은 다음 주까지의 목표를 설정했다.\",\n",
    "}"
   ],
   "id": "98e28f23b42534f8",
   "outputs": [],
   "execution_count": 67
  },
  {
   "metadata": {
    "ExecuteTime": {
     "end_time": "2024-07-13T06:29:10.052218Z",
     "start_time": "2024-07-13T06:29:09.583213Z"
    }
   },
   "cell_type": "code",
   "source": "example_selector.select_examples(question)",
   "id": "f439cb168425668",
   "outputs": [
    {
     "data": {
      "text/plain": [
       "[{'id': 'doc:cbaf6db868114104b500eac5b6816129:a38ac85fe30e4e029c71966ce555bc23',\n",
       "  'instruction': '당신은 회의록 작성 전문가 입니다. 주어진 정보를 바탕으로 회의록을 작성해 주세요',\n",
       "  'input': '2023년 12월 25일, XYZ 회사의 마케팅 전략 회의가 오후 3시에 시작되었다. 회의에는 마케팅 팀장인 김수진, 디지털 마케팅 담당자인 박지민, 소셜 미디어 관리자인 이준호가 참석했다. 회의의 주요 목적은 2024년 상반기 마케팅 전략을 수립하고, 새로운 소셜 미디어 캠페인에 대한 아이디어를 논의하는 것이었다. 팀장인 김수진은 최근 시장 동향에 대한 간략한 개요를 제공했으며, 이어서 각 팀원이 자신의 분야에서의 전략적 아이디어를 발표했다.',\n",
       "  'answer': '\\n회의록: XYZ 회사 마케팅 전략 회의\\n일시: 2023년 12월 25일\\n장소: XYZ 회사 회의실\\n참석자: 김수진 (마케팅 팀장), 박지민 (디지털 마케팅 담당자), 이준호 (소셜 미디어 관리자)\\n\\n1. 개회\\n   - 회의는 김수진 팀장의 개회사로 시작됨.\\n   - 회의의 목적은 2024년 상반기 마케팅 전략 수립 및 새로운 소셜 미디어 캠페인 아이디어 논의.\\n\\n2. 시장 동향 개요 (김수진)\\n   - 김수진 팀장은 최근 시장 동향에 대한 분석을 제시.\\n   - 소비자 행동 변화와 경쟁사 전략에 대한 통찰 공유.\\n\\n3. 디지털 마케팅 전략 (박지민)\\n   - 박지민은 디지털 마케팅 전략에 대해 발표.\\n   - 온라인 광고와 SEO 최적화 방안에 중점을 둠.\\n\\n4. 소셜 미디어 캠페인 (이준호)\\n   - 이준호는 새로운 소셜 미디어 캠페인에 대한 아이디어를 제안.\\n   - 인플루언서 마케팅과 콘텐츠 전략에 대한 계획을 설명함.\\n\\n5. 종합 논의\\n   - 팀원들 간의 아이디어 공유 및 토론.\\n   - 각 전략에 대한 예산 및 자원 배분에 대해 논의.\\n\\n6. 마무리\\n   - 다음 회의 날짜 및 시간 확정.\\n   - 회의록 정리 및 배포는 박지민 담당.\\n'}]"
      ]
     },
     "execution_count": 68,
     "metadata": {},
     "output_type": "execute_result"
    }
   ],
   "execution_count": 68
  },
  {
   "metadata": {
    "ExecuteTime": {
     "end_time": "2024-07-13T06:30:43.269726Z",
     "start_time": "2024-07-13T06:30:43.265582Z"
    }
   },
   "cell_type": "code",
   "source": [
    "final_prompt = ChatPromptTemplate.from_messages(\n",
    "    [\n",
    "        (\"system\",\"너는 똑똑한 어시스턴트야\"),\n",
    "        few_shot_prompt,\n",
    "        (\"human\",\"{instruction}\\n{input}\")\n",
    "    ]\n",
    ")"
   ],
   "id": "10d6f639b3c37e91",
   "outputs": [],
   "execution_count": 70
  },
  {
   "metadata": {
    "ExecuteTime": {
     "end_time": "2024-07-13T06:31:06.035488Z",
     "start_time": "2024-07-13T06:31:06.032021Z"
    }
   },
   "cell_type": "code",
   "source": "chain = final_prompt | llm |StrOutputParser()",
   "id": "7538a2995f15340f",
   "outputs": [],
   "execution_count": 71
  },
  {
   "metadata": {
    "ExecuteTime": {
     "end_time": "2024-07-13T06:32:15.501147Z",
     "start_time": "2024-07-13T06:32:09.068255Z"
    }
   },
   "cell_type": "code",
   "source": [
    "answer = chain.stream(question)\n",
    "for token in answer:\n",
    "    print(token,end=\"\",flush=True)"
   ],
   "id": "cb04d2b6a40ae5f6",
   "outputs": [
    {
     "name": "stdout",
     "output_type": "stream",
     "text": [
      "회의록: ABC 기술 회사 제품 개발 팀 주간 진행 상황 회의\n",
      "일시: 2023년 12월 26일\n",
      "장소: ABC 기술 회사 회의실\n",
      "참석자: 최현수 (프로젝트 매니저), 황지연 (주요 개발자), 김태영 (UI/UX 디자이너)\n",
      "\n",
      "1. 개회\n",
      "   - 회의는 최현수 프로젝트 매니저의 개회사로 시작됨.\n",
      "   - 회의의 목적은 새로운 모바일 애플리케이션 프로젝트의 현재 진행 상황을 검토하고 다가오는 마일스톤에 대한 계획을 수립하는 것.\n",
      "\n",
      "2. 진행 상황 업데이트\n",
      "   - 최현수: 프로젝트 전체 진행 상황 개요 제공.\n",
      "   - 황지연: 개발 진행 상황 보고.\n",
      "     - 주요 기능 구현 상태 및 현재까지의 문제점 공유.\n",
      "     - 버그 수정 및 성능 최적화 작업 현황 설명.\n",
      "   - 김태영: UI/UX 디자인 진행 상황 보고.\n",
      "     - 사용자 인터페이스 디자인 완료 상태 및 피드백 반영 현황 설명.\n",
      "     - 사용자 경험 개선을 위한 추가 작업 계획 공유.\n",
      "\n",
      "3. 다가오는 마일스톤 계획\n",
      "   - 최현수: 다음 마일스톤에 대한 주요 목표 및 일정 제시.\n",
      "   - 팀원들 간의 협력 방안 논의.\n",
      "   - 각 팀원의 역할과 책임 재확인.\n",
      "\n",
      "4. 다음 주 목표 설정\n",
      "   - 황지연: 다음 주까지 완료할 개발 작업 목록 제시.\n",
      "   - 김태영: 다음 주까지 완료할 디자인 작업 목록 제시.\n",
      "   - 최현수: 전체 프로젝트 일정 조정 및 리소스 배분 계획 설명.\n",
      "\n",
      "5. 종합 논의\n",
      "   - 팀원들 간의 추가 의견 교환 및 질의응답.\n",
      "   - 예상되는 문제점 및 해결 방안 논의.\n",
      "\n",
      "6. 마무리\n",
      "   - 다음 회의 날짜 및 시간 확정.\n",
      "   - 회의록 정리 및 배포는 최현수 담당.\n",
      "\n",
      "회의 종료: 오후 4시 30분\n",
      "\n",
      "작성자: 최현수 (프로젝트 매니저)"
     ]
    }
   ],
   "execution_count": 73
  },
  {
   "metadata": {
    "ExecuteTime": {
     "end_time": "2024-07-13T07:37:52.930618Z",
     "start_time": "2024-07-13T07:37:52.892072Z"
    }
   },
   "cell_type": "code",
   "source": "from langchain_teddynote.prompts import  CustomExampleSelector",
   "id": "be9a59e74d8ace28",
   "outputs": [],
   "execution_count": 90
  },
  {
   "metadata": {},
   "cell_type": "code",
   "outputs": [],
   "execution_count": null,
   "source": "",
   "id": "a018d583a8bc06b5"
  }
 ],
 "metadata": {
  "kernelspec": {
   "display_name": "Python 3",
   "language": "python",
   "name": "python3"
  },
  "language_info": {
   "codemirror_mode": {
    "name": "ipython",
    "version": 2
   },
   "file_extension": ".py",
   "mimetype": "text/x-python",
   "name": "python",
   "nbconvert_exporter": "python",
   "pygments_lexer": "ipython2",
   "version": "2.7.6"
  }
 },
 "nbformat": 4,
 "nbformat_minor": 5
}
